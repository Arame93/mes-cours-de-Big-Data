{
 "cells": [
  {
   "cell_type": "markdown",
   "metadata": {},
   "source": [
    "# Introduction to Machine Learning /  Introduction au Machine Learning"
   ]
  },
  {
   "cell_type": "markdown",
   "metadata": {},
   "source": [
    "## Naive Bayes"
   ]
  },
  {
   "cell_type": "markdown",
   "metadata": {},
   "source": [
    "In machine learning, naïve Bayes classifiers are a family of simple \"probabilistic classifiers\" based on applying Bayes' theorem with strong (naïve) independence assumptions between the features. They are among the simplest Bayesian network models."
   ]
  },
  {
   "cell_type": "markdown",
   "metadata": {},
   "source": [
    "Naive Bayes is a simple technique for constructing classifiers: models that assign class labels to problem instances, represented as vectors of feature values, where the class labels are drawn from some finite set. There is not a single algorithm for training such classifiers, but a family of algorithms based on a common principle: all naive Bayes classifiers assume that the value of a particular feature is independent of the value of any other feature, given the class variable."
   ]
  },
  {
   "cell_type": "markdown",
   "metadata": {},
   "source": [
    "### Probabilistic model"
   ]
  },
  {
   "cell_type": "markdown",
   "metadata": {},
   "source": [
    "Naive Bayes methods are a set of supervised learning algorithms based on applying Bayes’ theorem with the “naive” assumption of conditional independence between every pair of features given the value of the class variable. Bayes’ theorem states the following relationship, given class variable $y$ and dependent feature vector $x_1$ through $x_n$ :\n",
    "\n",
    "$$P(y \\mid x_1, \\dots, x_n) = \\frac{P(y) P(x_1, \\dots x_n \\mid y)}\n",
    "                                 {P(x_1, \\dots, x_n)}$$"
   ]
  },
  {
   "cell_type": "markdown",
   "metadata": {},
   "source": [
    "Using the naive conditional independence assumption that\n",
    "\n",
    "$$ P(x_i | y, x_1, \\dots, x_{i-1}, x_{i+1}, \\dots, x_n) = P(x_i | y),$$"
   ]
  },
  {
   "cell_type": "markdown",
   "metadata": {},
   "source": [
    "for all $i$, this relationship is simplified to $$ P(y \\mid x_1, \\dots, x_n) = \\frac{P(y) \\prod_{i=1}^{n} P(x_i \\mid y)}\n",
    "                                 {P(x_1, \\dots, x_n)}$$"
   ]
  },
  {
   "cell_type": "markdown",
   "metadata": {},
   "source": [
    "Since $P(x_1, \\dots, x_n)$ is constant is constant given the input, we can use the following classification rule:$$\\begin{align}\\begin{aligned}P(y \\mid x_1, \\dots, x_n) \\propto P(y) \\prod_{i=1}^{n} P(x_i \\mid y)\\\\\\Downarrow\\\\\\hat{y} = \\arg\\max_y P(y) \\prod_{i=1}^{n} P(x_i \\mid y),\\end{aligned}\\end{align}$$"
   ]
  },
  {
   "cell_type": "markdown",
   "metadata": {},
   "source": [
    "and we can use Maximum A Posteriori (MAP) estimation to estimate $P(y)$ and $P(x_i \\mid y)$; the former is then the relative frequency of class $y$  in the training set."
   ]
  },
  {
   "cell_type": "markdown",
   "metadata": {},
   "source": [
    "##### Exemple / Example  : classification des sexes / sex classication "
   ]
  },
  {
   "cell_type": "markdown",
   "metadata": {},
   "source": [
    "<p> On cherche à classifier chaque personne en tant qu'individu du sexe masculin ou féminin, selon les caractéristiques mesurées. Les caractéristiques comprennent la taille, le poids, et la pointure.\n",
    "</p> \n",
    "\n",
    "<p> \n",
    "We seek to classify each person as male or female, according to the characteristics measured. Features include size, weight, and size.</p>"
   ]
  },
  {
   "cell_type": "markdown",
   "metadata": {},
   "source": [
    "- Training : Nous disposons du jeu d'entrainement suivant / We have the following training game"
   ]
  },
  {
   "cell_type": "code",
   "execution_count": 34,
   "metadata": {},
   "outputs": [],
   "source": [
    "import pandas as pd\n",
    "\n",
    "dic = {\n",
    "      'sexe'  : ['masculin','masculin','masculin','masculin','feminin','feminin','feminin','feminin'],\n",
    "      'taille' : [182,180,170,180,152,168,165,175],\n",
    "      'poids' : [81.6,86.2,77.1,74.8,45.4,68.0,59.0, 68.0],\n",
    "      'pointure' : [30,28,30,25,15,20,18,23]      \n",
    "}\n",
    "\n",
    "train = pd.DataFrame(dic)"
   ]
  },
  {
   "cell_type": "code",
   "execution_count": 35,
   "metadata": {},
   "outputs": [
    {
     "data": {
      "text/html": [
       "<div>\n",
       "<style scoped>\n",
       "    .dataframe tbody tr th:only-of-type {\n",
       "        vertical-align: middle;\n",
       "    }\n",
       "\n",
       "    .dataframe tbody tr th {\n",
       "        vertical-align: top;\n",
       "    }\n",
       "\n",
       "    .dataframe thead th {\n",
       "        text-align: right;\n",
       "    }\n",
       "</style>\n",
       "<table border=\"1\" class=\"dataframe\">\n",
       "  <thead>\n",
       "    <tr style=\"text-align: right;\">\n",
       "      <th></th>\n",
       "      <th>sexe</th>\n",
       "      <th>taille</th>\n",
       "      <th>poids</th>\n",
       "      <th>pointure</th>\n",
       "    </tr>\n",
       "  </thead>\n",
       "  <tbody>\n",
       "    <tr>\n",
       "      <th>0</th>\n",
       "      <td>masculin</td>\n",
       "      <td>182</td>\n",
       "      <td>81.6</td>\n",
       "      <td>30</td>\n",
       "    </tr>\n",
       "    <tr>\n",
       "      <th>1</th>\n",
       "      <td>masculin</td>\n",
       "      <td>180</td>\n",
       "      <td>86.2</td>\n",
       "      <td>28</td>\n",
       "    </tr>\n",
       "    <tr>\n",
       "      <th>2</th>\n",
       "      <td>masculin</td>\n",
       "      <td>170</td>\n",
       "      <td>77.1</td>\n",
       "      <td>30</td>\n",
       "    </tr>\n",
       "    <tr>\n",
       "      <th>3</th>\n",
       "      <td>masculin</td>\n",
       "      <td>180</td>\n",
       "      <td>74.8</td>\n",
       "      <td>25</td>\n",
       "    </tr>\n",
       "    <tr>\n",
       "      <th>4</th>\n",
       "      <td>feminin</td>\n",
       "      <td>152</td>\n",
       "      <td>45.4</td>\n",
       "      <td>15</td>\n",
       "    </tr>\n",
       "    <tr>\n",
       "      <th>5</th>\n",
       "      <td>feminin</td>\n",
       "      <td>168</td>\n",
       "      <td>68.0</td>\n",
       "      <td>20</td>\n",
       "    </tr>\n",
       "    <tr>\n",
       "      <th>6</th>\n",
       "      <td>feminin</td>\n",
       "      <td>165</td>\n",
       "      <td>59.0</td>\n",
       "      <td>18</td>\n",
       "    </tr>\n",
       "    <tr>\n",
       "      <th>7</th>\n",
       "      <td>feminin</td>\n",
       "      <td>175</td>\n",
       "      <td>68.0</td>\n",
       "      <td>23</td>\n",
       "    </tr>\n",
       "  </tbody>\n",
       "</table>\n",
       "</div>"
      ],
      "text/plain": [
       "       sexe  taille  poids  pointure\n",
       "0  masculin     182   81.6        30\n",
       "1  masculin     180   86.2        28\n",
       "2  masculin     170   77.1        30\n",
       "3  masculin     180   74.8        25\n",
       "4   feminin     152   45.4        15\n",
       "5   feminin     168   68.0        20\n",
       "6   feminin     165   59.0        18\n",
       "7   feminin     175   68.0        23"
      ]
     },
     "execution_count": 35,
     "metadata": {},
     "output_type": "execute_result"
    }
   ],
   "source": [
    "train"
   ]
  },
  {
   "cell_type": "markdown",
   "metadata": {},
   "source": [
    "#### Calcul des probabiliés a priori / Calculation of a priori probabilties"
   ]
  },
  {
   "cell_type": "code",
   "execution_count": 36,
   "metadata": {},
   "outputs": [],
   "source": [
    "#train.groupby(\"sexe\").size()    #probbilite a priori\n",
    "\n",
    "P_masculin = P_feminin = 0.5"
   ]
  },
  {
   "cell_type": "markdown",
   "metadata": {},
   "source": [
    "#### Calcul des probabiliés conditionelles / Calculation of conditional probabilties"
   ]
  },
  {
   "cell_type": "markdown",
   "metadata": {},
   "source": [
    "<p>Le classifieur créé à partir de ces données d'entraînement, utilisant une hypothèse de distribution Gaussienne pour les lois de probabilités des caractéristiques, est le suivant :</p>\n",
    "<p>\n",
    "The classifier created from these training data, using a Gaussian distribution assumption for the probability laws of the characteristics, is as follows:</p>"
   ]
  },
  {
   "cell_type": "markdown",
   "metadata": {},
   "source": [
    "Using the naive conditional independence assumption that\n",
    "\n",
    "$$ P(x_i | y, x_1, \\dots, x_{i-1}, x_{i+1}, \\dots, x_n) = P(x_i | y),$$"
   ]
  },
  {
   "cell_type": "markdown",
   "metadata": {},
   "source": [
    "<p> On veut déterminer quelle probabilité postérieure est la plus grande, celle que l'échantillon soit de sexe masculin, ou celle qu'il soit de sexe féminin.</p> \n",
    "<p>  We want to determine which posterior probability is greatest, whether the sample is male or female.</p> "
   ]
  },
  {
   "cell_type": "markdown",
   "metadata": {},
   "source": [
    "$$ P_{posterior}(feminin) =  P(feminin).\\frac{P(taille \\mid feminin).P(poids \\mid feminin).P(pointure \\mid feminin)}{evidence}$$\n",
    "\n",
    "$$ P_{posterior}(masculin) =  P(masculin).\\frac{P(taille \\mid masculin).P(poids \\mid masculin).P(pointure \\mid masculin)}{evidence}$$\n",
    "\n",
    "$$ evidence = P(masculin).P(taille \\mid masculin).P(poids \\mid masculin).P(pointure \\mid masculin) + P(feminin).P(taille\\mid feminin).P(poids\\mid feminin).P(pointure \\mid feminin)$$\n"
   ]
  },
  {
   "cell_type": "markdown",
   "metadata": {},
   "source": [
    "<p> On peut predire actuellement le sexe de l'échantillon avec: </p>  <p> The sex of the sample can currently be predicted with: </p>"
   ]
  },
  {
   "cell_type": "markdown",
   "metadata": {},
   "source": [
    "$$ f_{k,j}(x) = \\frac{1}{ \\sqrt{2 \\pi   \\sigma _{k,j}^2 } }exp(\\frac{-1}{2 \\sigma _{k,j}^2}(x- \\mu_{k,j})^2) $$"
   ]
  },
  {
   "cell_type": "code",
   "execution_count": 37,
   "metadata": {},
   "outputs": [
    {
     "data": {
      "text/html": [
       "<div>\n",
       "<style scoped>\n",
       "    .dataframe tbody tr th:only-of-type {\n",
       "        vertical-align: middle;\n",
       "    }\n",
       "\n",
       "    .dataframe tbody tr th {\n",
       "        vertical-align: top;\n",
       "    }\n",
       "\n",
       "    .dataframe thead tr th {\n",
       "        text-align: left;\n",
       "    }\n",
       "\n",
       "    .dataframe thead tr:last-of-type th {\n",
       "        text-align: right;\n",
       "    }\n",
       "</style>\n",
       "<table border=\"1\" class=\"dataframe\">\n",
       "  <thead>\n",
       "    <tr>\n",
       "      <th></th>\n",
       "      <th colspan=\"2\" halign=\"left\">taille</th>\n",
       "      <th colspan=\"2\" halign=\"left\">poids</th>\n",
       "      <th colspan=\"2\" halign=\"left\">pointure</th>\n",
       "    </tr>\n",
       "    <tr>\n",
       "      <th></th>\n",
       "      <th>mean</th>\n",
       "      <th>std</th>\n",
       "      <th>mean</th>\n",
       "      <th>std</th>\n",
       "      <th>mean</th>\n",
       "      <th>std</th>\n",
       "    </tr>\n",
       "    <tr>\n",
       "      <th>sexe</th>\n",
       "      <th></th>\n",
       "      <th></th>\n",
       "      <th></th>\n",
       "      <th></th>\n",
       "      <th></th>\n",
       "      <th></th>\n",
       "    </tr>\n",
       "  </thead>\n",
       "  <tbody>\n",
       "    <tr>\n",
       "      <th>feminin</th>\n",
       "      <td>165</td>\n",
       "      <td>9.626353</td>\n",
       "      <td>60.100</td>\n",
       "      <td>10.678951</td>\n",
       "      <td>19.00</td>\n",
       "      <td>3.366502</td>\n",
       "    </tr>\n",
       "    <tr>\n",
       "      <th>masculin</th>\n",
       "      <td>178</td>\n",
       "      <td>5.416026</td>\n",
       "      <td>79.925</td>\n",
       "      <td>5.047359</td>\n",
       "      <td>28.25</td>\n",
       "      <td>2.362908</td>\n",
       "    </tr>\n",
       "  </tbody>\n",
       "</table>\n",
       "</div>"
      ],
      "text/plain": [
       "         taille             poids            pointure          \n",
       "           mean       std    mean        std     mean       std\n",
       "sexe                                                           \n",
       "feminin     165  9.626353  60.100  10.678951    19.00  3.366502\n",
       "masculin    178  5.416026  79.925   5.047359    28.25  2.362908"
      ]
     },
     "execution_count": 37,
     "metadata": {},
     "output_type": "execute_result"
    }
   ],
   "source": [
    "# mbs : moments by sexe\n",
    "mbs = train.groupby('sexe').agg(['mean', 'std'])\n",
    "mbs"
   ]
  },
  {
   "cell_type": "markdown",
   "metadata": {},
   "source": [
    "pour une variable $j$ dans le groupe $k$. / \n",
    "for a variable $j$ in the group $k$."
   ]
  },
  {
   "cell_type": "code",
   "execution_count": 38,
   "metadata": {},
   "outputs": [
    {
     "data": {
      "text/html": [
       "<div>\n",
       "<style scoped>\n",
       "    .dataframe tbody tr th:only-of-type {\n",
       "        vertical-align: middle;\n",
       "    }\n",
       "\n",
       "    .dataframe tbody tr th {\n",
       "        vertical-align: top;\n",
       "    }\n",
       "\n",
       "    .dataframe thead th {\n",
       "        text-align: right;\n",
       "    }\n",
       "</style>\n",
       "<table border=\"1\" class=\"dataframe\">\n",
       "  <thead>\n",
       "    <tr style=\"text-align: right;\">\n",
       "      <th></th>\n",
       "      <th>sexe</th>\n",
       "      <th>taille_mean</th>\n",
       "      <th>taille_std</th>\n",
       "      <th>poids_mean</th>\n",
       "      <th>poids_std</th>\n",
       "      <th>pointure_mean</th>\n",
       "      <th>pointure_std</th>\n",
       "    </tr>\n",
       "  </thead>\n",
       "  <tbody>\n",
       "    <tr>\n",
       "      <th>0</th>\n",
       "      <td>feminin</td>\n",
       "      <td>165</td>\n",
       "      <td>9.626353</td>\n",
       "      <td>60.100</td>\n",
       "      <td>10.678951</td>\n",
       "      <td>19.00</td>\n",
       "      <td>3.366502</td>\n",
       "    </tr>\n",
       "    <tr>\n",
       "      <th>1</th>\n",
       "      <td>masculin</td>\n",
       "      <td>178</td>\n",
       "      <td>5.416026</td>\n",
       "      <td>79.925</td>\n",
       "      <td>5.047359</td>\n",
       "      <td>28.25</td>\n",
       "      <td>2.362908</td>\n",
       "    </tr>\n",
       "  </tbody>\n",
       "</table>\n",
       "</div>"
      ],
      "text/plain": [
       "       sexe  taille_mean  taille_std  poids_mean  poids_std  pointure_mean  \\\n",
       "0   feminin          165    9.626353      60.100  10.678951          19.00   \n",
       "1  masculin          178    5.416026      79.925   5.047359          28.25   \n",
       "\n",
       "   pointure_std  \n",
       "0      3.366502  \n",
       "1      2.362908  "
      ]
     },
     "execution_count": 38,
     "metadata": {},
     "output_type": "execute_result"
    }
   ],
   "source": [
    "mbs.columns = mbs.columns.droplevel()\n",
    "mbs.columns = ['taille_mean','taille_std','poids_mean','poids_std','pointure_mean','pointure_std']\n",
    "mbs.reset_index()"
   ]
  },
  {
   "cell_type": "markdown",
   "metadata": {},
   "source": [
    "<p> Pour la variable taille (t) dans le groupe masculin (m) on a donc : </p> /\n",
    "<p> For the variable size (t) in the male group (m) we therefore have:</p>"
   ]
  },
  {
   "cell_type": "markdown",
   "metadata": {},
   "source": [
    "$${\\displaystyle P(\\mathrm {taille} |\\mathrm {masculin} )=f_{t,m}(x)={1 \\over {\\sqrt {2\\pi \\times 2,9333\\times 10^{1}}}}\\exp \\left({-1 \\over 2\\times 2.9333\\times 10^{1}}(183-178)^{2}\\right)\\approx 4.8102\\times 10^{-2}}$$"
   ]
  },
  {
   "cell_type": "markdown",
   "metadata": {},
   "source": [
    "<p> On suppose pour des raisons pratiques que les classes sont équiprobables, à savoir P(masculin) = P(féminin) = 0,5 (selon le contexte, cette hypothèse peut être inappropriée). Si l'on détermine P(C) d'après la fréquence des échantillons par classe dans l'ensemble de données d'entraînement, on aboutit au même résultat.</p>\n",
    "\n",
    "<p> It is assumed for practical reasons that the classes are equiprobable, namely P (masculine) = P (feminine) = 0.5 (depending on the context, this hypothesis may be inappropriate). If P (C) is determined from the sample frequency per class in the training data set, the same result is obtained.</p>"
   ]
  },
  {
   "cell_type": "code",
   "execution_count": 39,
   "metadata": {},
   "outputs": [],
   "source": [
    "from math import sqrt, exp, pi\n",
    "\n",
    "from decimal import Decimal\n",
    "\n",
    "def P(x, mean, sd):\n",
    "    var = float(sd)**2\n",
    "    denom = (2*pi*var)**.5\n",
    "    num = exp(-(float(x)-float(mean))**2/(2*var))\n",
    "    return num/denom\n",
    "    #return '%.2E' % Decimal(num/denom)"
   ]
  },
  {
   "cell_type": "markdown",
   "metadata": {},
   "source": [
    "* Test : On veut classifier l'échantillon suivant en tant que masculin ou féminin "
   ]
  },
  {
   "cell_type": "code",
   "execution_count": 42,
   "metadata": {},
   "outputs": [
    {
     "data": {
      "text/html": [
       "<div>\n",
       "<style scoped>\n",
       "    .dataframe tbody tr th:only-of-type {\n",
       "        vertical-align: middle;\n",
       "    }\n",
       "\n",
       "    .dataframe tbody tr th {\n",
       "        vertical-align: top;\n",
       "    }\n",
       "\n",
       "    .dataframe thead th {\n",
       "        text-align: right;\n",
       "    }\n",
       "</style>\n",
       "<table border=\"1\" class=\"dataframe\">\n",
       "  <thead>\n",
       "    <tr style=\"text-align: right;\">\n",
       "      <th></th>\n",
       "      <th>taille</th>\n",
       "      <th>poids</th>\n",
       "      <th>pointure</th>\n",
       "    </tr>\n",
       "  </thead>\n",
       "  <tbody>\n",
       "    <tr>\n",
       "      <th>0</th>\n",
       "      <td>183</td>\n",
       "      <td>59</td>\n",
       "      <td>20</td>\n",
       "    </tr>\n",
       "  </tbody>\n",
       "</table>\n",
       "</div>"
      ],
      "text/plain": [
       "   taille  poids  pointure\n",
       "0     183     59        20"
      ]
     },
     "execution_count": 42,
     "metadata": {},
     "output_type": "execute_result"
    }
   ],
   "source": [
    "dic1 = {\n",
    "      'taille' : [183],\n",
    "      'poids' : [59],\n",
    "      'pointure' : [20]      \n",
    "}\n",
    "\n",
    "test = pd.DataFrame(dic1)\n",
    "test"
   ]
  },
  {
   "cell_type": "code",
   "execution_count": 43,
   "metadata": {},
   "outputs": [
    {
     "name": "stdout",
     "output_type": "stream",
     "text": [
      "0.04810172884724963\n",
      "1.4645868104810069e-05\n",
      "0.0003805165935577862\n"
     ]
    }
   ],
   "source": [
    "ptm = P(test['taille'], mbs['taille_mean']['masculin'], mbs['taille_std']['masculin'])\n",
    "print(ptm)\n",
    "\n",
    "ppm = P(test['poids'], mbs['poids_mean']['masculin'], mbs['poids_std']['masculin'])\n",
    "print(ppm)\n",
    "\n",
    "ppom = P(test['pointure'], mbs['pointure_mean']['masculin'], mbs['pointure_std']['masculin'])\n",
    "print(ppom)"
   ]
  },
  {
   "cell_type": "code",
   "execution_count": 44,
   "metadata": {},
   "outputs": [
    {
     "name": "stdout",
     "output_type": "stream",
     "text": [
      "0.007214629895804131\n",
      "0.03716015026508792\n",
      "0.11338906757074846\n"
     ]
    }
   ],
   "source": [
    "ptf = P(test['taille'], mbs['taille_mean']['feminin'], mbs['taille_std']['feminin'])\n",
    "print(ptf)\n",
    "\n",
    "ppf = P(test['poids'], mbs['poids_mean']['feminin'], mbs['poids_std']['feminin'])\n",
    "print(ppf)\n",
    "\n",
    "ppof = P(test['pointure'], mbs['pointure_mean']['feminin'], mbs['pointure_std']['feminin'])\n",
    "print(ppof)"
   ]
  },
  {
   "cell_type": "code",
   "execution_count": 48,
   "metadata": {},
   "outputs": [
    {
     "name": "stdout",
     "output_type": "stream",
     "text": [
      "1.3403536740384783e-10\n",
      "1.5199619175416566e-05\n",
      "1.5199753210783969e-05\n"
     ]
    }
   ],
   "source": [
    "evidence_m = P_masculin*ptm*ppm*ppom\n",
    "print(evidence_m)\n",
    "\n",
    "evidence_f = P_feminin*ptf*ppf*ppof\n",
    "print(evidence_f)\n",
    "\n",
    "evidence = evidence_m + evidence_f\n",
    "print(evidence)"
   ]
  },
  {
   "cell_type": "code",
   "execution_count": 49,
   "metadata": {},
   "outputs": [
    {
     "name": "stdout",
     "output_type": "stream",
     "text": [
      "8.81825945099898e-06\n",
      "0.999991181740549\n"
     ]
    }
   ],
   "source": [
    "Ppos_masculin = evidence_m/evidence\n",
    "print(Ppos_masculin)\n",
    "\n",
    "Ppos_feminin = evidence_f/evidence\n",
    "print(Ppos_feminin)"
   ]
  },
  {
   "cell_type": "code",
   "execution_count": 64,
   "metadata": {},
   "outputs": [
    {
     "data": {
      "text/plain": [
       "1.0"
      ]
     },
     "execution_count": 64,
     "metadata": {},
     "output_type": "execute_result"
    }
   ],
   "source": [
    "8.81825945099898e-06 + 0.999991181740549"
   ]
  },
  {
   "cell_type": "markdown",
   "metadata": {},
   "source": [
    "<p>\n",
    "On réalise ce calcul pour chacune des variables et des groupes : /  This calculation is performed for each of the variables and groups:\n",
    "\n",
    "P(masculin) = 0.5 \\\n",
    "P(taille|masculin) = 4.8102e-02 \\\n",
    "P(poids|masculin) = 1.4646e-05 \\\n",
    "P(pointure|masculin) = 3.8052e-4 \\\n",
    "Ppos (masculin) = 1.3404e-10 \\\n",
    "\n",
    "\n",
    "P(féminin) = 0.5 \\\n",
    "P(taille|féminin) = 7.2146e-3 \\\n",
    "P(poids|féminin) = 3.7160e-2 \\\n",
    "P(pointure|féminin) = 1.1338e-1 \\\n",
    "\n",
    "Ppos(féminin) = 1.5200e-05\n",
    "</p>"
   ]
  },
  {
   "cell_type": "code",
   "execution_count": 65,
   "metadata": {},
   "outputs": [
    {
     "name": "stdout",
     "output_type": "stream",
     "text": [
      "1.0\n"
     ]
    }
   ],
   "source": [
    "Pmasculin = 0.5\n",
    "P_taille_masculin = 4.8102e-02\n",
    "P_poids_masculin = 1.4646e-05\n",
    "P_pointure_masculin = 3.8052e-4\n",
    "\n",
    "Pfeminin = 0.5\n",
    "P_taille_feminin = 7.2146e-3\n",
    "P_poids_feminin = 3.7160e-2\n",
    "P_pointure_feminin = 1.1338e-1\n",
    "\n",
    "\n",
    "evidence_m = Pmasculin*P_taille_masculin*P_poids_masculin*P_pointure_masculin\n",
    "evidence_f = Pfeminin*P_taille_feminin*P_poids_feminin*P_pointure_feminin\n",
    "evidence  = evidence_m + evidence_f\n",
    "\n",
    "Pos_masculin = evidence_m/evidence\n",
    "Pos_masculin\n",
    "\n",
    "Pos_feminin = evidence_f/evidence\n",
    "Pos_feminin\n",
    "\n",
    "print(Pos_masculin + Pos_feminin)"
   ]
  },
  {
   "cell_type": "markdown",
   "metadata": {},
   "source": [
    "#### Prediction avec l'utilisation de Scikit learn"
   ]
  },
  {
   "cell_type": "code",
   "execution_count": 67,
   "metadata": {},
   "outputs": [],
   "source": [
    "trainFeatures = train[['taille','poids','pointure']]\n",
    "trainTarget = train[['sexe']]\n",
    "\n",
    "X_train = trainFeatures.values\n",
    "y_train = trainTarget.values\n",
    "\n",
    "X_test = test.values"
   ]
  },
  {
   "cell_type": "code",
   "execution_count": 68,
   "metadata": {},
   "outputs": [
    {
     "data": {
      "text/plain": [
       "array([[182. ,  81.6,  30. ],\n",
       "       [180. ,  86.2,  28. ],\n",
       "       [170. ,  77.1,  30. ],\n",
       "       [180. ,  74.8,  25. ],\n",
       "       [152. ,  45.4,  15. ],\n",
       "       [168. ,  68. ,  20. ],\n",
       "       [165. ,  59. ,  18. ],\n",
       "       [175. ,  68. ,  23. ]])"
      ]
     },
     "execution_count": 68,
     "metadata": {},
     "output_type": "execute_result"
    }
   ],
   "source": [
    "X_train"
   ]
  },
  {
   "cell_type": "code",
   "execution_count": 69,
   "metadata": {},
   "outputs": [
    {
     "data": {
      "text/plain": [
       "array([['masculin'],\n",
       "       ['masculin'],\n",
       "       ['masculin'],\n",
       "       ['masculin'],\n",
       "       ['feminin'],\n",
       "       ['feminin'],\n",
       "       ['feminin'],\n",
       "       ['feminin']], dtype=object)"
      ]
     },
     "execution_count": 69,
     "metadata": {},
     "output_type": "execute_result"
    }
   ],
   "source": [
    "y_train"
   ]
  },
  {
   "cell_type": "code",
   "execution_count": 70,
   "metadata": {},
   "outputs": [],
   "source": [
    "X_test = test.values"
   ]
  },
  {
   "cell_type": "code",
   "execution_count": 71,
   "metadata": {},
   "outputs": [
    {
     "data": {
      "text/plain": [
       "array([[183,  59,  20]], dtype=int64)"
      ]
     },
     "execution_count": 71,
     "metadata": {},
     "output_type": "execute_result"
    }
   ],
   "source": [
    "test.values"
   ]
  },
  {
   "cell_type": "code",
   "execution_count": 72,
   "metadata": {},
   "outputs": [
    {
     "name": "stderr",
     "output_type": "stream",
     "text": [
      "C:\\Users\\Ndoye\\Anaconda3_\\lib\\site-packages\\sklearn\\utils\\validation.py:724: DataConversionWarning: A column-vector y was passed when a 1d array was expected. Please change the shape of y to (n_samples, ), for example using ravel().\n",
      "  y = column_or_1d(y, warn=True)\n"
     ]
    }
   ],
   "source": [
    "from sklearn.naive_bayes import GaussianNB\n",
    "\n",
    "gnb = GaussianNB()\n",
    "\n",
    "y_pred = gnb.fit(X_train,y_train).predict(X_test)\n"
   ]
  },
  {
   "cell_type": "code",
   "execution_count": 73,
   "metadata": {},
   "outputs": [
    {
     "data": {
      "text/plain": [
       "array(['feminin'], dtype='<U8')"
      ]
     },
     "execution_count": 73,
     "metadata": {},
     "output_type": "execute_result"
    }
   ],
   "source": [
    "y_pred"
   ]
  },
  {
   "cell_type": "markdown",
   "metadata": {},
   "source": [
    "### Example 1: / Exemple 1: IRIS of Fisher"
   ]
  },
  {
   "cell_type": "code",
   "execution_count": 127,
   "metadata": {},
   "outputs": [],
   "source": [
    "from sklearn import datasets"
   ]
  },
  {
   "cell_type": "code",
   "execution_count": 128,
   "metadata": {},
   "outputs": [],
   "source": [
    "# import Iris data\n",
    "iris = datasets.load_iris()\n",
    "X = iris.data\n",
    "y = iris.target\n",
    "class_names = iris.target_names"
   ]
  },
  {
   "cell_type": "code",
   "execution_count": 129,
   "metadata": {},
   "outputs": [],
   "source": [
    "from scipy import stats\n",
    "import numpy as np\n",
    "import matplotlib.pyplot as plt\n",
    "import seaborn as sns"
   ]
  },
  {
   "cell_type": "markdown",
   "metadata": {},
   "source": [
    "#### Testing the Normality of the features using Kolmogorov-Smirnov / Tester la normalité des variables explicatives avec le test de Kolmogorov-Smirnov "
   ]
  },
  {
   "cell_type": "code",
   "execution_count": 118,
   "metadata": {},
   "outputs": [
    {
     "data": {
      "text/plain": [
       "[KstestResult(statistic=0.999991460094529, pvalue=7.476238875146382e-254),\n",
       " KstestResult(statistic=0.9892758899783242, pvalue=6.593151266132366e-99),\n",
       " KstestResult(statistic=0.8449303297782917, pvalue=8.986498175214717e-41),\n",
       " KstestResult(statistic=0.539827837277029, pvalue=3.639705034708887e-14)]"
      ]
     },
     "execution_count": 118,
     "metadata": {},
     "output_type": "execute_result"
    }
   ],
   "source": [
    "# In the 'setosa' group\n",
    "[stats.kstest(X[0:50:,i], 'norm') for i in range(4)]"
   ]
  },
  {
   "cell_type": "code",
   "execution_count": 121,
   "metadata": {},
   "outputs": [
    {
     "data": {
      "text/plain": [
       "[KstestResult(statistic=0.9999995208167234, pvalue=2.1189106e-316),\n",
       " KstestResult(statistic=0.9772498680518208, pvalue=1.4132727611353636e-82),\n",
       " KstestResult(statistic=0.9986501019683699, pvalue=6.547540586674824e-144),\n",
       " KstestResult(statistic=0.8413447460685429, pvalue=2.934018384393366e-40)]"
      ]
     },
     "execution_count": 121,
     "metadata": {},
     "output_type": "execute_result"
    }
   ],
   "source": [
    "# In the 'versicolor' group\n",
    "[stats.kstest(X[50:100:,i], 'norm') for i in range(4)]"
   ]
  },
  {
   "cell_type": "code",
   "execution_count": 123,
   "metadata": {},
   "outputs": [
    {
     "data": {
      "text/plain": [
       "[KstestResult(statistic=0.9999995208167234, pvalue=2.1189106e-316),\n",
       " KstestResult(statistic=0.9860965524865014, pvalue=2.8652009198462893e-93),\n",
       " KstestResult(statistic=0.9999966023268753, pvalue=7.246190448605723e-274),\n",
       " KstestResult(statistic=0.9192433407662289, pvalue=4.572614895316612e-55)]"
      ]
     },
     "execution_count": 123,
     "metadata": {},
     "output_type": "execute_result"
    }
   ],
   "source": [
    "# In the 'virginica' group\n",
    "[stats.kstest(X[100:150:,i], 'norm') for i in range(4)]"
   ]
  },
  {
   "cell_type": "code",
   "execution_count": 124,
   "metadata": {},
   "outputs": [
    {
     "data": {
      "text/plain": [
       "<matplotlib.legend.Legend at 0xac3b6d7da0>"
      ]
     },
     "execution_count": 124,
     "metadata": {},
     "output_type": "execute_result"
    },
    {
     "data": {
      "image/png": "[encoded data removed]",
      "text/plain": [
       "<Figure size 432x288 with 1 Axes>"
      ]
     },
     "metadata": {
      "needs_background": "light"
     },
     "output_type": "display_data"
    }
   ],
   "source": [
    "# In the 'setosa' group\n",
    "sns.kdeplot(X[0:50:,0], label='sepal length')\n",
    "sns.kdeplot(X[0:50:,1], label='sepal width')\n",
    "sns.kdeplot(X[0:50:,2], label='petal length')\n",
    "sns.kdeplot(X[0:50:,3], label='petal width')\n",
    "plt.legend()"
   ]
  },
  {
   "cell_type": "code",
   "execution_count": 136,
   "metadata": {},
   "outputs": [
    {
     "data": {
      "text/plain": [
       "<matplotlib.legend.Legend at 0xac3b9d5cf8>"
      ]
     },
     "execution_count": 136,
     "metadata": {},
     "output_type": "execute_result"
    },
    {
     "data": {
      "image/png": "[encoded data removed]",
      "text/plain": [
       "<Figure size 432x288 with 1 Axes>"
      ]
     },
     "metadata": {
      "needs_background": "light"
     },
     "output_type": "display_data"
    }
   ],
   "source": [
    "# In the 'versicolor' group\n",
    "sns.kdeplot(X[50:100:,0], label='sepal length')\n",
    "sns.kdeplot(X[50:100:,1], label='sepal width')\n",
    "sns.kdeplot(X[50:100:,2], label='petal length')\n",
    "sns.kdeplot(X[50:100:,3], label='petal width')\n",
    "plt.legend()"
   ]
  },
  {
   "cell_type": "code",
   "execution_count": 137,
   "metadata": {},
   "outputs": [
    {
     "data": {
      "text/plain": [
       "<matplotlib.legend.Legend at 0xac3b9b8320>"
      ]
     },
     "execution_count": 137,
     "metadata": {},
     "output_type": "execute_result"
    },
    {
     "data": {
      "image/png": "[encoded data removed]",
      "text/plain": [
       "<Figure size 432x288 with 1 Axes>"
      ]
     },
     "metadata": {
      "needs_background": "light"
     },
     "output_type": "display_data"
    }
   ],
   "source": [
    "# In the 'virginica' group\n",
    "sns.kdeplot(X[100:150:,0], label='sepal length')\n",
    "sns.kdeplot(X[100:150:,1], label='sepal width')\n",
    "sns.kdeplot(X[100:150:,2], label='petal length')\n",
    "sns.kdeplot(X[100:150:,3], label='petal width')\n",
    "plt.legend()"
   ]
  },
  {
   "cell_type": "code",
   "execution_count": 139,
   "metadata": {},
   "outputs": [],
   "source": [
    "from sklearn.model_selection import train_test_split"
   ]
  },
  {
   "cell_type": "code",
   "execution_count": 140,
   "metadata": {},
   "outputs": [],
   "source": [
    "# Split the data into a training set and a test set\n",
    "#X_train, X_test, y_train, y_test = train_test_split(X, y,test_size = 0.5, random_state=0)\n",
    "X_train, X_test, y_train, y_test = train_test_split(X, y, random_state=0)"
   ]
  },
  {
   "cell_type": "code",
   "execution_count": 141,
   "metadata": {},
   "outputs": [
    {
     "name": "stdout",
     "output_type": "stream",
     "text": [
      "Number of mislabeled points out of a total 150 points : 0\n"
     ]
    }
   ],
   "source": [
    "from sklearn.model_selection import train_test_split\n",
    "from sklearn.metrics import confusion_matrix\n",
    "from sklearn.utils.multiclass import unique_labels\n",
    "\n",
    "# Split the data into a training set and a test set\n",
    "#X_train, X_test, y_train, y_test = train_test_split(X, y,test_size = 0.5, random_state=0)\n",
    "X_train, X_test, y_train, y_test = train_test_split(X, y, random_state=0)\n",
    "\n",
    "from sklearn.naive_bayes import GaussianNB\n",
    "\n",
    "gnb = GaussianNB()\n",
    "\n",
    "y_pred = gnb.fit(X_train,y_train).predict(X_test)\n",
    "\n",
    "print(\"Number of mislabeled points out of a total %d points : %d\"\n",
    "      % (iris.data.shape[0],(y_test != y_pred).sum()))\n"
   ]
  },
  {
   "cell_type": "code",
   "execution_count": 142,
   "metadata": {},
   "outputs": [
    {
     "name": "stdout",
     "output_type": "stream",
     "text": [
      "Confusion matrix, without normalization\n",
      "[[13  0  0]\n",
      " [ 0 16  0]\n",
      " [ 0  0  9]]\n",
      "Normalized confusion matrix\n",
      "[[1. 0. 0.]\n",
      " [0. 1. 0.]\n",
      " [0. 0. 1.]]\n"
     ]
    },
    {
     "data": {
      "image/png": "[encoded data removed]",
      "text/plain": [
       "<Figure size 432x288 with 2 Axes>"
      ]
     },
     "metadata": {
      "needs_background": "light"
     },
     "output_type": "display_data"
    },
    {
     "data": {
      "image/png": "[encoded data removed]",
      "text/plain": [
       "<Figure size 432x288 with 2 Axes>"
      ]
     },
     "metadata": {
      "needs_background": "light"
     },
     "output_type": "display_data"
    }
   ],
   "source": [
    "import matplotlib.pyplot as plt\n",
    "import numpy as np\n",
    "\n",
    "def plot_confusion_matrix(y_true, y_pred, classes,\n",
    "                          normalize=False,\n",
    "                          title=None,\n",
    "                          cmap=plt.cm.Blues):\n",
    "    \"\"\"\n",
    "    This function prints and plots the confusion matrix.\n",
    "    Normalization can be applied by setting `normalize=True`.\n",
    "    \"\"\"\n",
    "    if not title:\n",
    "        if normalize:\n",
    "            title = 'Normalized confusion matrix'\n",
    "        else:\n",
    "            title = 'Confusion matrix, without normalization'\n",
    "\n",
    "    # Compute confusion matrix\n",
    "    cm = confusion_matrix(y_true, y_pred)\n",
    "    # Only use the labels that appear in the data\n",
    "    classes = classes[unique_labels(y_true, y_pred)]\n",
    "    if normalize:\n",
    "        cm = cm.astype('float') / cm.sum(axis=1)[:, np.newaxis]\n",
    "        print(\"Normalized confusion matrix\")\n",
    "    else:\n",
    "        print('Confusion matrix, without normalization')\n",
    "\n",
    "    print(cm)\n",
    "\n",
    "    fig, ax = plt.subplots()\n",
    "    im = ax.imshow(cm, interpolation='nearest', cmap=cmap)\n",
    "    ax.figure.colorbar(im, ax=ax)\n",
    "    # We want to show all ticks...\n",
    "    ax.set(xticks=np.arange(cm.shape[1]),\n",
    "           yticks=np.arange(cm.shape[0]),\n",
    "           # ... and label them with the respective list entries\n",
    "           xticklabels=classes, yticklabels=classes,\n",
    "           title=title,\n",
    "           ylabel='True label',\n",
    "           xlabel='Predicted label')\n",
    "\n",
    "    # Rotate the tick labels and set their alignment.\n",
    "    plt.setp(ax.get_xticklabels(), rotation=45, ha=\"right\",\n",
    "             rotation_mode=\"anchor\")\n",
    "\n",
    "    # Loop over data dimensions and create text annotations.\n",
    "    fmt = '.2f' if normalize else 'd'\n",
    "    thresh = cm.max() / 2.\n",
    "    for i in range(cm.shape[0]):\n",
    "        for j in range(cm.shape[1]):\n",
    "            ax.text(j, i, format(cm[i, j], fmt),\n",
    "                    ha=\"center\", va=\"center\",\n",
    "                    color=\"white\" if cm[i, j] > thresh else \"black\")\n",
    "    fig.tight_layout()\n",
    "    return ax\n",
    "\n",
    "\n",
    "np.set_printoptions(precision=2)\n",
    "\n",
    "# Plot non-normalized confusion matrix\n",
    "plot_confusion_matrix(y_test, y_pred, classes=class_names,\n",
    "                      title='Confusion matrix, without normalization')\n",
    "\n",
    "# Plot normalized confusion matrix\n",
    "plot_confusion_matrix(y_test, y_pred, classes=class_names, normalize=True,\n",
    "                      title='Normalized confusion matrix')\n",
    "\n",
    "plt.show()"
   ]
  },
  {
   "cell_type": "markdown",
   "metadata": {},
   "source": [
    "#### Modeling by 'hand' by applying bayes formulae "
   ]
  },
  {
   "cell_type": "code",
   "execution_count": 175,
   "metadata": {},
   "outputs": [],
   "source": [
    "# f1 = sepal_length, f2 = sepal_width, f3 = petal_length,  f4 = petal_width\n",
    "\n",
    "train = X_train\n",
    "train = pd.DataFrame(train)\n",
    "train.columns = ['f1','f2','f3','f4']\n",
    "train['target'] = y_train\n",
    "\n",
    "test = X_test\n",
    "test = pd.DataFrame(test)\n",
    "test.columns = ['f1','f2','f3','f4']\n",
    "test['target'] = y_test"
   ]
  },
  {
   "cell_type": "code",
   "execution_count": 176,
   "metadata": {},
   "outputs": [
    {
     "data": {
      "text/html": [
       "<div>\n",
       "<style scoped>\n",
       "    .dataframe tbody tr th:only-of-type {\n",
       "        vertical-align: middle;\n",
       "    }\n",
       "\n",
       "    .dataframe tbody tr th {\n",
       "        vertical-align: top;\n",
       "    }\n",
       "\n",
       "    .dataframe thead th {\n",
       "        text-align: right;\n",
       "    }\n",
       "</style>\n",
       "<table border=\"1\" class=\"dataframe\">\n",
       "  <thead>\n",
       "    <tr style=\"text-align: right;\">\n",
       "      <th></th>\n",
       "      <th>f1</th>\n",
       "      <th>f2</th>\n",
       "      <th>f3</th>\n",
       "      <th>f4</th>\n",
       "      <th>target</th>\n",
       "    </tr>\n",
       "  </thead>\n",
       "  <tbody>\n",
       "    <tr>\n",
       "      <th>0</th>\n",
       "      <td>5.9</td>\n",
       "      <td>3.0</td>\n",
       "      <td>4.2</td>\n",
       "      <td>1.5</td>\n",
       "      <td>1</td>\n",
       "    </tr>\n",
       "    <tr>\n",
       "      <th>1</th>\n",
       "      <td>5.8</td>\n",
       "      <td>2.6</td>\n",
       "      <td>4.0</td>\n",
       "      <td>1.2</td>\n",
       "      <td>1</td>\n",
       "    </tr>\n",
       "    <tr>\n",
       "      <th>2</th>\n",
       "      <td>6.8</td>\n",
       "      <td>3.0</td>\n",
       "      <td>5.5</td>\n",
       "      <td>2.1</td>\n",
       "      <td>2</td>\n",
       "    </tr>\n",
       "    <tr>\n",
       "      <th>3</th>\n",
       "      <td>4.7</td>\n",
       "      <td>3.2</td>\n",
       "      <td>1.3</td>\n",
       "      <td>0.2</td>\n",
       "      <td>0</td>\n",
       "    </tr>\n",
       "    <tr>\n",
       "      <th>4</th>\n",
       "      <td>6.9</td>\n",
       "      <td>3.1</td>\n",
       "      <td>5.1</td>\n",
       "      <td>2.3</td>\n",
       "      <td>2</td>\n",
       "    </tr>\n",
       "    <tr>\n",
       "      <th>5</th>\n",
       "      <td>5.0</td>\n",
       "      <td>3.5</td>\n",
       "      <td>1.6</td>\n",
       "      <td>0.6</td>\n",
       "      <td>0</td>\n",
       "    </tr>\n",
       "    <tr>\n",
       "      <th>6</th>\n",
       "      <td>5.4</td>\n",
       "      <td>3.7</td>\n",
       "      <td>1.5</td>\n",
       "      <td>0.2</td>\n",
       "      <td>0</td>\n",
       "    </tr>\n",
       "    <tr>\n",
       "      <th>7</th>\n",
       "      <td>5.0</td>\n",
       "      <td>2.0</td>\n",
       "      <td>3.5</td>\n",
       "      <td>1.0</td>\n",
       "      <td>1</td>\n",
       "    </tr>\n",
       "    <tr>\n",
       "      <th>8</th>\n",
       "      <td>6.5</td>\n",
       "      <td>3.0</td>\n",
       "      <td>5.5</td>\n",
       "      <td>1.8</td>\n",
       "      <td>2</td>\n",
       "    </tr>\n",
       "    <tr>\n",
       "      <th>9</th>\n",
       "      <td>6.7</td>\n",
       "      <td>3.3</td>\n",
       "      <td>5.7</td>\n",
       "      <td>2.5</td>\n",
       "      <td>2</td>\n",
       "    </tr>\n",
       "    <tr>\n",
       "      <th>10</th>\n",
       "      <td>6.0</td>\n",
       "      <td>2.2</td>\n",
       "      <td>5.0</td>\n",
       "      <td>1.5</td>\n",
       "      <td>2</td>\n",
       "    </tr>\n",
       "    <tr>\n",
       "      <th>11</th>\n",
       "      <td>6.7</td>\n",
       "      <td>2.5</td>\n",
       "      <td>5.8</td>\n",
       "      <td>1.8</td>\n",
       "      <td>2</td>\n",
       "    </tr>\n",
       "    <tr>\n",
       "      <th>12</th>\n",
       "      <td>5.6</td>\n",
       "      <td>2.5</td>\n",
       "      <td>3.9</td>\n",
       "      <td>1.1</td>\n",
       "      <td>1</td>\n",
       "    </tr>\n",
       "    <tr>\n",
       "      <th>13</th>\n",
       "      <td>7.7</td>\n",
       "      <td>3.0</td>\n",
       "      <td>6.1</td>\n",
       "      <td>2.3</td>\n",
       "      <td>2</td>\n",
       "    </tr>\n",
       "    <tr>\n",
       "      <th>14</th>\n",
       "      <td>6.3</td>\n",
       "      <td>3.3</td>\n",
       "      <td>4.7</td>\n",
       "      <td>1.6</td>\n",
       "      <td>1</td>\n",
       "    </tr>\n",
       "    <tr>\n",
       "      <th>15</th>\n",
       "      <td>5.5</td>\n",
       "      <td>2.4</td>\n",
       "      <td>3.8</td>\n",
       "      <td>1.1</td>\n",
       "      <td>1</td>\n",
       "    </tr>\n",
       "    <tr>\n",
       "      <th>16</th>\n",
       "      <td>6.3</td>\n",
       "      <td>2.7</td>\n",
       "      <td>4.9</td>\n",
       "      <td>1.8</td>\n",
       "      <td>2</td>\n",
       "    </tr>\n",
       "    <tr>\n",
       "      <th>17</th>\n",
       "      <td>6.3</td>\n",
       "      <td>2.8</td>\n",
       "      <td>5.1</td>\n",
       "      <td>1.5</td>\n",
       "      <td>2</td>\n",
       "    </tr>\n",
       "    <tr>\n",
       "      <th>18</th>\n",
       "      <td>4.9</td>\n",
       "      <td>2.5</td>\n",
       "      <td>4.5</td>\n",
       "      <td>1.7</td>\n",
       "      <td>2</td>\n",
       "    </tr>\n",
       "    <tr>\n",
       "      <th>19</th>\n",
       "      <td>6.3</td>\n",
       "      <td>2.5</td>\n",
       "      <td>5.0</td>\n",
       "      <td>1.9</td>\n",
       "      <td>2</td>\n",
       "    </tr>\n",
       "    <tr>\n",
       "      <th>20</th>\n",
       "      <td>7.0</td>\n",
       "      <td>3.2</td>\n",
       "      <td>4.7</td>\n",
       "      <td>1.4</td>\n",
       "      <td>1</td>\n",
       "    </tr>\n",
       "    <tr>\n",
       "      <th>21</th>\n",
       "      <td>6.5</td>\n",
       "      <td>3.0</td>\n",
       "      <td>5.2</td>\n",
       "      <td>2.0</td>\n",
       "      <td>2</td>\n",
       "    </tr>\n",
       "    <tr>\n",
       "      <th>22</th>\n",
       "      <td>6.0</td>\n",
       "      <td>3.4</td>\n",
       "      <td>4.5</td>\n",
       "      <td>1.6</td>\n",
       "      <td>1</td>\n",
       "    </tr>\n",
       "    <tr>\n",
       "      <th>23</th>\n",
       "      <td>4.8</td>\n",
       "      <td>3.1</td>\n",
       "      <td>1.6</td>\n",
       "      <td>0.2</td>\n",
       "      <td>0</td>\n",
       "    </tr>\n",
       "    <tr>\n",
       "      <th>24</th>\n",
       "      <td>5.8</td>\n",
       "      <td>2.7</td>\n",
       "      <td>5.1</td>\n",
       "      <td>1.9</td>\n",
       "      <td>2</td>\n",
       "    </tr>\n",
       "    <tr>\n",
       "      <th>25</th>\n",
       "      <td>5.6</td>\n",
       "      <td>2.7</td>\n",
       "      <td>4.2</td>\n",
       "      <td>1.3</td>\n",
       "      <td>1</td>\n",
       "    </tr>\n",
       "    <tr>\n",
       "      <th>26</th>\n",
       "      <td>5.6</td>\n",
       "      <td>2.9</td>\n",
       "      <td>3.6</td>\n",
       "      <td>1.3</td>\n",
       "      <td>1</td>\n",
       "    </tr>\n",
       "    <tr>\n",
       "      <th>27</th>\n",
       "      <td>5.5</td>\n",
       "      <td>2.5</td>\n",
       "      <td>4.0</td>\n",
       "      <td>1.3</td>\n",
       "      <td>1</td>\n",
       "    </tr>\n",
       "    <tr>\n",
       "      <th>28</th>\n",
       "      <td>6.1</td>\n",
       "      <td>3.0</td>\n",
       "      <td>4.6</td>\n",
       "      <td>1.4</td>\n",
       "      <td>1</td>\n",
       "    </tr>\n",
       "    <tr>\n",
       "      <th>29</th>\n",
       "      <td>7.2</td>\n",
       "      <td>3.2</td>\n",
       "      <td>6.0</td>\n",
       "      <td>1.8</td>\n",
       "      <td>2</td>\n",
       "    </tr>\n",
       "    <tr>\n",
       "      <th>...</th>\n",
       "      <td>...</td>\n",
       "      <td>...</td>\n",
       "      <td>...</td>\n",
       "      <td>...</td>\n",
       "      <td>...</td>\n",
       "    </tr>\n",
       "    <tr>\n",
       "      <th>82</th>\n",
       "      <td>5.8</td>\n",
       "      <td>4.0</td>\n",
       "      <td>1.2</td>\n",
       "      <td>0.2</td>\n",
       "      <td>0</td>\n",
       "    </tr>\n",
       "    <tr>\n",
       "      <th>83</th>\n",
       "      <td>7.7</td>\n",
       "      <td>2.8</td>\n",
       "      <td>6.7</td>\n",
       "      <td>2.0</td>\n",
       "      <td>2</td>\n",
       "    </tr>\n",
       "    <tr>\n",
       "      <th>84</th>\n",
       "      <td>5.1</td>\n",
       "      <td>3.8</td>\n",
       "      <td>1.5</td>\n",
       "      <td>0.3</td>\n",
       "      <td>0</td>\n",
       "    </tr>\n",
       "    <tr>\n",
       "      <th>85</th>\n",
       "      <td>4.7</td>\n",
       "      <td>3.2</td>\n",
       "      <td>1.6</td>\n",
       "      <td>0.2</td>\n",
       "      <td>0</td>\n",
       "    </tr>\n",
       "    <tr>\n",
       "      <th>86</th>\n",
       "      <td>7.4</td>\n",
       "      <td>2.8</td>\n",
       "      <td>6.1</td>\n",
       "      <td>1.9</td>\n",
       "      <td>2</td>\n",
       "    </tr>\n",
       "    <tr>\n",
       "      <th>87</th>\n",
       "      <td>5.0</td>\n",
       "      <td>3.3</td>\n",
       "      <td>1.4</td>\n",
       "      <td>0.2</td>\n",
       "      <td>0</td>\n",
       "    </tr>\n",
       "    <tr>\n",
       "      <th>88</th>\n",
       "      <td>6.3</td>\n",
       "      <td>3.4</td>\n",
       "      <td>5.6</td>\n",
       "      <td>2.4</td>\n",
       "      <td>2</td>\n",
       "    </tr>\n",
       "    <tr>\n",
       "      <th>89</th>\n",
       "      <td>5.7</td>\n",
       "      <td>2.8</td>\n",
       "      <td>4.1</td>\n",
       "      <td>1.3</td>\n",
       "      <td>1</td>\n",
       "    </tr>\n",
       "    <tr>\n",
       "      <th>90</th>\n",
       "      <td>5.8</td>\n",
       "      <td>2.7</td>\n",
       "      <td>3.9</td>\n",
       "      <td>1.2</td>\n",
       "      <td>1</td>\n",
       "    </tr>\n",
       "    <tr>\n",
       "      <th>91</th>\n",
       "      <td>5.7</td>\n",
       "      <td>2.6</td>\n",
       "      <td>3.5</td>\n",
       "      <td>1.0</td>\n",
       "      <td>1</td>\n",
       "    </tr>\n",
       "    <tr>\n",
       "      <th>92</th>\n",
       "      <td>6.4</td>\n",
       "      <td>3.2</td>\n",
       "      <td>5.3</td>\n",
       "      <td>2.3</td>\n",
       "      <td>2</td>\n",
       "    </tr>\n",
       "    <tr>\n",
       "      <th>93</th>\n",
       "      <td>6.7</td>\n",
       "      <td>3.0</td>\n",
       "      <td>5.2</td>\n",
       "      <td>2.3</td>\n",
       "      <td>2</td>\n",
       "    </tr>\n",
       "    <tr>\n",
       "      <th>94</th>\n",
       "      <td>6.3</td>\n",
       "      <td>2.5</td>\n",
       "      <td>4.9</td>\n",
       "      <td>1.5</td>\n",
       "      <td>1</td>\n",
       "    </tr>\n",
       "    <tr>\n",
       "      <th>95</th>\n",
       "      <td>6.7</td>\n",
       "      <td>3.0</td>\n",
       "      <td>5.0</td>\n",
       "      <td>1.7</td>\n",
       "      <td>1</td>\n",
       "    </tr>\n",
       "    <tr>\n",
       "      <th>96</th>\n",
       "      <td>5.0</td>\n",
       "      <td>3.0</td>\n",
       "      <td>1.6</td>\n",
       "      <td>0.2</td>\n",
       "      <td>0</td>\n",
       "    </tr>\n",
       "    <tr>\n",
       "      <th>97</th>\n",
       "      <td>5.5</td>\n",
       "      <td>2.4</td>\n",
       "      <td>3.7</td>\n",
       "      <td>1.0</td>\n",
       "      <td>1</td>\n",
       "    </tr>\n",
       "    <tr>\n",
       "      <th>98</th>\n",
       "      <td>6.7</td>\n",
       "      <td>3.1</td>\n",
       "      <td>5.6</td>\n",
       "      <td>2.4</td>\n",
       "      <td>2</td>\n",
       "    </tr>\n",
       "    <tr>\n",
       "      <th>99</th>\n",
       "      <td>5.8</td>\n",
       "      <td>2.7</td>\n",
       "      <td>5.1</td>\n",
       "      <td>1.9</td>\n",
       "      <td>2</td>\n",
       "    </tr>\n",
       "    <tr>\n",
       "      <th>100</th>\n",
       "      <td>5.1</td>\n",
       "      <td>3.4</td>\n",
       "      <td>1.5</td>\n",
       "      <td>0.2</td>\n",
       "      <td>0</td>\n",
       "    </tr>\n",
       "    <tr>\n",
       "      <th>101</th>\n",
       "      <td>6.6</td>\n",
       "      <td>2.9</td>\n",
       "      <td>4.6</td>\n",
       "      <td>1.3</td>\n",
       "      <td>1</td>\n",
       "    </tr>\n",
       "    <tr>\n",
       "      <th>102</th>\n",
       "      <td>5.6</td>\n",
       "      <td>3.0</td>\n",
       "      <td>4.1</td>\n",
       "      <td>1.3</td>\n",
       "      <td>1</td>\n",
       "    </tr>\n",
       "    <tr>\n",
       "      <th>103</th>\n",
       "      <td>5.9</td>\n",
       "      <td>3.2</td>\n",
       "      <td>4.8</td>\n",
       "      <td>1.8</td>\n",
       "      <td>1</td>\n",
       "    </tr>\n",
       "    <tr>\n",
       "      <th>104</th>\n",
       "      <td>6.3</td>\n",
       "      <td>2.3</td>\n",
       "      <td>4.4</td>\n",
       "      <td>1.3</td>\n",
       "      <td>1</td>\n",
       "    </tr>\n",
       "    <tr>\n",
       "      <th>105</th>\n",
       "      <td>5.5</td>\n",
       "      <td>3.5</td>\n",
       "      <td>1.3</td>\n",
       "      <td>0.2</td>\n",
       "      <td>0</td>\n",
       "    </tr>\n",
       "    <tr>\n",
       "      <th>106</th>\n",
       "      <td>5.1</td>\n",
       "      <td>3.7</td>\n",
       "      <td>1.5</td>\n",
       "      <td>0.4</td>\n",
       "      <td>0</td>\n",
       "    </tr>\n",
       "    <tr>\n",
       "      <th>107</th>\n",
       "      <td>4.9</td>\n",
       "      <td>3.1</td>\n",
       "      <td>1.5</td>\n",
       "      <td>0.1</td>\n",
       "      <td>0</td>\n",
       "    </tr>\n",
       "    <tr>\n",
       "      <th>108</th>\n",
       "      <td>6.3</td>\n",
       "      <td>2.9</td>\n",
       "      <td>5.6</td>\n",
       "      <td>1.8</td>\n",
       "      <td>2</td>\n",
       "    </tr>\n",
       "    <tr>\n",
       "      <th>109</th>\n",
       "      <td>5.8</td>\n",
       "      <td>2.7</td>\n",
       "      <td>4.1</td>\n",
       "      <td>1.0</td>\n",
       "      <td>1</td>\n",
       "    </tr>\n",
       "    <tr>\n",
       "      <th>110</th>\n",
       "      <td>7.7</td>\n",
       "      <td>3.8</td>\n",
       "      <td>6.7</td>\n",
       "      <td>2.2</td>\n",
       "      <td>2</td>\n",
       "    </tr>\n",
       "    <tr>\n",
       "      <th>111</th>\n",
       "      <td>4.6</td>\n",
       "      <td>3.2</td>\n",
       "      <td>1.4</td>\n",
       "      <td>0.2</td>\n",
       "      <td>0</td>\n",
       "    </tr>\n",
       "  </tbody>\n",
       "</table>\n",
       "<p>112 rows × 5 columns</p>\n",
       "</div>"
      ],
      "text/plain": [
       "      f1   f2   f3   f4  target\n",
       "0    5.9  3.0  4.2  1.5       1\n",
       "1    5.8  2.6  4.0  1.2       1\n",
       "2    6.8  3.0  5.5  2.1       2\n",
       "3    4.7  3.2  1.3  0.2       0\n",
       "4    6.9  3.1  5.1  2.3       2\n",
       "5    5.0  3.5  1.6  0.6       0\n",
       "6    5.4  3.7  1.5  0.2       0\n",
       "7    5.0  2.0  3.5  1.0       1\n",
       "8    6.5  3.0  5.5  1.8       2\n",
       "9    6.7  3.3  5.7  2.5       2\n",
       "10   6.0  2.2  5.0  1.5       2\n",
       "11   6.7  2.5  5.8  1.8       2\n",
       "12   5.6  2.5  3.9  1.1       1\n",
       "13   7.7  3.0  6.1  2.3       2\n",
       "14   6.3  3.3  4.7  1.6       1\n",
       "15   5.5  2.4  3.8  1.1       1\n",
       "16   6.3  2.7  4.9  1.8       2\n",
       "17   6.3  2.8  5.1  1.5       2\n",
       "18   4.9  2.5  4.5  1.7       2\n",
       "19   6.3  2.5  5.0  1.9       2\n",
       "20   7.0  3.2  4.7  1.4       1\n",
       "21   6.5  3.0  5.2  2.0       2\n",
       "22   6.0  3.4  4.5  1.6       1\n",
       "23   4.8  3.1  1.6  0.2       0\n",
       "24   5.8  2.7  5.1  1.9       2\n",
       "25   5.6  2.7  4.2  1.3       1\n",
       "26   5.6  2.9  3.6  1.3       1\n",
       "27   5.5  2.5  4.0  1.3       1\n",
       "28   6.1  3.0  4.6  1.4       1\n",
       "29   7.2  3.2  6.0  1.8       2\n",
       "..   ...  ...  ...  ...     ...\n",
       "82   5.8  4.0  1.2  0.2       0\n",
       "83   7.7  2.8  6.7  2.0       2\n",
       "84   5.1  3.8  1.5  0.3       0\n",
       "85   4.7  3.2  1.6  0.2       0\n",
       "86   7.4  2.8  6.1  1.9       2\n",
       "87   5.0  3.3  1.4  0.2       0\n",
       "88   6.3  3.4  5.6  2.4       2\n",
       "89   5.7  2.8  4.1  1.3       1\n",
       "90   5.8  2.7  3.9  1.2       1\n",
       "91   5.7  2.6  3.5  1.0       1\n",
       "92   6.4  3.2  5.3  2.3       2\n",
       "93   6.7  3.0  5.2  2.3       2\n",
       "94   6.3  2.5  4.9  1.5       1\n",
       "95   6.7  3.0  5.0  1.7       1\n",
       "96   5.0  3.0  1.6  0.2       0\n",
       "97   5.5  2.4  3.7  1.0       1\n",
       "98   6.7  3.1  5.6  2.4       2\n",
       "99   5.8  2.7  5.1  1.9       2\n",
       "100  5.1  3.4  1.5  0.2       0\n",
       "101  6.6  2.9  4.6  1.3       1\n",
       "102  5.6  3.0  4.1  1.3       1\n",
       "103  5.9  3.2  4.8  1.8       1\n",
       "104  6.3  2.3  4.4  1.3       1\n",
       "105  5.5  3.5  1.3  0.2       0\n",
       "106  5.1  3.7  1.5  0.4       0\n",
       "107  4.9  3.1  1.5  0.1       0\n",
       "108  6.3  2.9  5.6  1.8       2\n",
       "109  5.8  2.7  4.1  1.0       1\n",
       "110  7.7  3.8  6.7  2.2       2\n",
       "111  4.6  3.2  1.4  0.2       0\n",
       "\n",
       "[112 rows x 5 columns]"
      ]
     },
     "execution_count": 176,
     "metadata": {},
     "output_type": "execute_result"
    }
   ],
   "source": [
    "train"
   ]
  },
  {
   "cell_type": "code",
   "execution_count": 177,
   "metadata": {},
   "outputs": [
    {
     "data": {
      "text/html": [
       "<div>\n",
       "<style scoped>\n",
       "    .dataframe tbody tr th:only-of-type {\n",
       "        vertical-align: middle;\n",
       "    }\n",
       "\n",
       "    .dataframe tbody tr th {\n",
       "        vertical-align: top;\n",
       "    }\n",
       "\n",
       "    .dataframe thead th {\n",
       "        text-align: right;\n",
       "    }\n",
       "</style>\n",
       "<table border=\"1\" class=\"dataframe\">\n",
       "  <thead>\n",
       "    <tr style=\"text-align: right;\">\n",
       "      <th></th>\n",
       "      <th>f1</th>\n",
       "      <th>f2</th>\n",
       "      <th>f3</th>\n",
       "      <th>f4</th>\n",
       "      <th>target</th>\n",
       "    </tr>\n",
       "  </thead>\n",
       "  <tbody>\n",
       "    <tr>\n",
       "      <th>0</th>\n",
       "      <td>5.8</td>\n",
       "      <td>2.8</td>\n",
       "      <td>5.1</td>\n",
       "      <td>2.4</td>\n",
       "      <td>2</td>\n",
       "    </tr>\n",
       "    <tr>\n",
       "      <th>1</th>\n",
       "      <td>6.0</td>\n",
       "      <td>2.2</td>\n",
       "      <td>4.0</td>\n",
       "      <td>1.0</td>\n",
       "      <td>1</td>\n",
       "    </tr>\n",
       "    <tr>\n",
       "      <th>2</th>\n",
       "      <td>5.5</td>\n",
       "      <td>4.2</td>\n",
       "      <td>1.4</td>\n",
       "      <td>0.2</td>\n",
       "      <td>0</td>\n",
       "    </tr>\n",
       "    <tr>\n",
       "      <th>3</th>\n",
       "      <td>7.3</td>\n",
       "      <td>2.9</td>\n",
       "      <td>6.3</td>\n",
       "      <td>1.8</td>\n",
       "      <td>2</td>\n",
       "    </tr>\n",
       "    <tr>\n",
       "      <th>4</th>\n",
       "      <td>5.0</td>\n",
       "      <td>3.4</td>\n",
       "      <td>1.5</td>\n",
       "      <td>0.2</td>\n",
       "      <td>0</td>\n",
       "    </tr>\n",
       "    <tr>\n",
       "      <th>5</th>\n",
       "      <td>6.3</td>\n",
       "      <td>3.3</td>\n",
       "      <td>6.0</td>\n",
       "      <td>2.5</td>\n",
       "      <td>2</td>\n",
       "    </tr>\n",
       "    <tr>\n",
       "      <th>6</th>\n",
       "      <td>5.0</td>\n",
       "      <td>3.5</td>\n",
       "      <td>1.3</td>\n",
       "      <td>0.3</td>\n",
       "      <td>0</td>\n",
       "    </tr>\n",
       "    <tr>\n",
       "      <th>7</th>\n",
       "      <td>6.7</td>\n",
       "      <td>3.1</td>\n",
       "      <td>4.7</td>\n",
       "      <td>1.5</td>\n",
       "      <td>1</td>\n",
       "    </tr>\n",
       "    <tr>\n",
       "      <th>8</th>\n",
       "      <td>6.8</td>\n",
       "      <td>2.8</td>\n",
       "      <td>4.8</td>\n",
       "      <td>1.4</td>\n",
       "      <td>1</td>\n",
       "    </tr>\n",
       "    <tr>\n",
       "      <th>9</th>\n",
       "      <td>6.1</td>\n",
       "      <td>2.8</td>\n",
       "      <td>4.0</td>\n",
       "      <td>1.3</td>\n",
       "      <td>1</td>\n",
       "    </tr>\n",
       "    <tr>\n",
       "      <th>10</th>\n",
       "      <td>6.1</td>\n",
       "      <td>2.6</td>\n",
       "      <td>5.6</td>\n",
       "      <td>1.4</td>\n",
       "      <td>2</td>\n",
       "    </tr>\n",
       "    <tr>\n",
       "      <th>11</th>\n",
       "      <td>6.4</td>\n",
       "      <td>3.2</td>\n",
       "      <td>4.5</td>\n",
       "      <td>1.5</td>\n",
       "      <td>1</td>\n",
       "    </tr>\n",
       "    <tr>\n",
       "      <th>12</th>\n",
       "      <td>6.1</td>\n",
       "      <td>2.8</td>\n",
       "      <td>4.7</td>\n",
       "      <td>1.2</td>\n",
       "      <td>1</td>\n",
       "    </tr>\n",
       "    <tr>\n",
       "      <th>13</th>\n",
       "      <td>6.5</td>\n",
       "      <td>2.8</td>\n",
       "      <td>4.6</td>\n",
       "      <td>1.5</td>\n",
       "      <td>1</td>\n",
       "    </tr>\n",
       "    <tr>\n",
       "      <th>14</th>\n",
       "      <td>6.1</td>\n",
       "      <td>2.9</td>\n",
       "      <td>4.7</td>\n",
       "      <td>1.4</td>\n",
       "      <td>1</td>\n",
       "    </tr>\n",
       "    <tr>\n",
       "      <th>15</th>\n",
       "      <td>4.9</td>\n",
       "      <td>3.6</td>\n",
       "      <td>1.4</td>\n",
       "      <td>0.1</td>\n",
       "      <td>0</td>\n",
       "    </tr>\n",
       "    <tr>\n",
       "      <th>16</th>\n",
       "      <td>6.0</td>\n",
       "      <td>2.9</td>\n",
       "      <td>4.5</td>\n",
       "      <td>1.5</td>\n",
       "      <td>1</td>\n",
       "    </tr>\n",
       "    <tr>\n",
       "      <th>17</th>\n",
       "      <td>5.5</td>\n",
       "      <td>2.6</td>\n",
       "      <td>4.4</td>\n",
       "      <td>1.2</td>\n",
       "      <td>1</td>\n",
       "    </tr>\n",
       "    <tr>\n",
       "      <th>18</th>\n",
       "      <td>4.8</td>\n",
       "      <td>3.0</td>\n",
       "      <td>1.4</td>\n",
       "      <td>0.3</td>\n",
       "      <td>0</td>\n",
       "    </tr>\n",
       "    <tr>\n",
       "      <th>19</th>\n",
       "      <td>5.4</td>\n",
       "      <td>3.9</td>\n",
       "      <td>1.3</td>\n",
       "      <td>0.4</td>\n",
       "      <td>0</td>\n",
       "    </tr>\n",
       "    <tr>\n",
       "      <th>20</th>\n",
       "      <td>5.6</td>\n",
       "      <td>2.8</td>\n",
       "      <td>4.9</td>\n",
       "      <td>2.0</td>\n",
       "      <td>2</td>\n",
       "    </tr>\n",
       "    <tr>\n",
       "      <th>21</th>\n",
       "      <td>5.6</td>\n",
       "      <td>3.0</td>\n",
       "      <td>4.5</td>\n",
       "      <td>1.5</td>\n",
       "      <td>1</td>\n",
       "    </tr>\n",
       "    <tr>\n",
       "      <th>22</th>\n",
       "      <td>4.8</td>\n",
       "      <td>3.4</td>\n",
       "      <td>1.9</td>\n",
       "      <td>0.2</td>\n",
       "      <td>0</td>\n",
       "    </tr>\n",
       "    <tr>\n",
       "      <th>23</th>\n",
       "      <td>4.4</td>\n",
       "      <td>2.9</td>\n",
       "      <td>1.4</td>\n",
       "      <td>0.2</td>\n",
       "      <td>0</td>\n",
       "    </tr>\n",
       "    <tr>\n",
       "      <th>24</th>\n",
       "      <td>6.2</td>\n",
       "      <td>2.8</td>\n",
       "      <td>4.8</td>\n",
       "      <td>1.8</td>\n",
       "      <td>2</td>\n",
       "    </tr>\n",
       "    <tr>\n",
       "      <th>25</th>\n",
       "      <td>4.6</td>\n",
       "      <td>3.6</td>\n",
       "      <td>1.0</td>\n",
       "      <td>0.2</td>\n",
       "      <td>0</td>\n",
       "    </tr>\n",
       "    <tr>\n",
       "      <th>26</th>\n",
       "      <td>5.1</td>\n",
       "      <td>3.8</td>\n",
       "      <td>1.9</td>\n",
       "      <td>0.4</td>\n",
       "      <td>0</td>\n",
       "    </tr>\n",
       "    <tr>\n",
       "      <th>27</th>\n",
       "      <td>6.2</td>\n",
       "      <td>2.9</td>\n",
       "      <td>4.3</td>\n",
       "      <td>1.3</td>\n",
       "      <td>1</td>\n",
       "    </tr>\n",
       "    <tr>\n",
       "      <th>28</th>\n",
       "      <td>5.0</td>\n",
       "      <td>2.3</td>\n",
       "      <td>3.3</td>\n",
       "      <td>1.0</td>\n",
       "      <td>1</td>\n",
       "    </tr>\n",
       "    <tr>\n",
       "      <th>29</th>\n",
       "      <td>5.0</td>\n",
       "      <td>3.4</td>\n",
       "      <td>1.6</td>\n",
       "      <td>0.4</td>\n",
       "      <td>0</td>\n",
       "    </tr>\n",
       "    <tr>\n",
       "      <th>30</th>\n",
       "      <td>6.4</td>\n",
       "      <td>3.1</td>\n",
       "      <td>5.5</td>\n",
       "      <td>1.8</td>\n",
       "      <td>2</td>\n",
       "    </tr>\n",
       "    <tr>\n",
       "      <th>31</th>\n",
       "      <td>5.4</td>\n",
       "      <td>3.0</td>\n",
       "      <td>4.5</td>\n",
       "      <td>1.5</td>\n",
       "      <td>1</td>\n",
       "    </tr>\n",
       "    <tr>\n",
       "      <th>32</th>\n",
       "      <td>5.2</td>\n",
       "      <td>3.5</td>\n",
       "      <td>1.5</td>\n",
       "      <td>0.2</td>\n",
       "      <td>0</td>\n",
       "    </tr>\n",
       "    <tr>\n",
       "      <th>33</th>\n",
       "      <td>6.1</td>\n",
       "      <td>3.0</td>\n",
       "      <td>4.9</td>\n",
       "      <td>1.8</td>\n",
       "      <td>2</td>\n",
       "    </tr>\n",
       "    <tr>\n",
       "      <th>34</th>\n",
       "      <td>6.4</td>\n",
       "      <td>2.8</td>\n",
       "      <td>5.6</td>\n",
       "      <td>2.2</td>\n",
       "      <td>2</td>\n",
       "    </tr>\n",
       "    <tr>\n",
       "      <th>35</th>\n",
       "      <td>5.2</td>\n",
       "      <td>2.7</td>\n",
       "      <td>3.9</td>\n",
       "      <td>1.4</td>\n",
       "      <td>1</td>\n",
       "    </tr>\n",
       "    <tr>\n",
       "      <th>36</th>\n",
       "      <td>5.7</td>\n",
       "      <td>3.8</td>\n",
       "      <td>1.7</td>\n",
       "      <td>0.3</td>\n",
       "      <td>0</td>\n",
       "    </tr>\n",
       "    <tr>\n",
       "      <th>37</th>\n",
       "      <td>6.0</td>\n",
       "      <td>2.7</td>\n",
       "      <td>5.1</td>\n",
       "      <td>1.6</td>\n",
       "      <td>1</td>\n",
       "    </tr>\n",
       "  </tbody>\n",
       "</table>\n",
       "</div>"
      ],
      "text/plain": [
       "     f1   f2   f3   f4  target\n",
       "0   5.8  2.8  5.1  2.4       2\n",
       "1   6.0  2.2  4.0  1.0       1\n",
       "2   5.5  4.2  1.4  0.2       0\n",
       "3   7.3  2.9  6.3  1.8       2\n",
       "4   5.0  3.4  1.5  0.2       0\n",
       "5   6.3  3.3  6.0  2.5       2\n",
       "6   5.0  3.5  1.3  0.3       0\n",
       "7   6.7  3.1  4.7  1.5       1\n",
       "8   6.8  2.8  4.8  1.4       1\n",
       "9   6.1  2.8  4.0  1.3       1\n",
       "10  6.1  2.6  5.6  1.4       2\n",
       "11  6.4  3.2  4.5  1.5       1\n",
       "12  6.1  2.8  4.7  1.2       1\n",
       "13  6.5  2.8  4.6  1.5       1\n",
       "14  6.1  2.9  4.7  1.4       1\n",
       "15  4.9  3.6  1.4  0.1       0\n",
       "16  6.0  2.9  4.5  1.5       1\n",
       "17  5.5  2.6  4.4  1.2       1\n",
       "18  4.8  3.0  1.4  0.3       0\n",
       "19  5.4  3.9  1.3  0.4       0\n",
       "20  5.6  2.8  4.9  2.0       2\n",
       "21  5.6  3.0  4.5  1.5       1\n",
       "22  4.8  3.4  1.9  0.2       0\n",
       "23  4.4  2.9  1.4  0.2       0\n",
       "24  6.2  2.8  4.8  1.8       2\n",
       "25  4.6  3.6  1.0  0.2       0\n",
       "26  5.1  3.8  1.9  0.4       0\n",
       "27  6.2  2.9  4.3  1.3       1\n",
       "28  5.0  2.3  3.3  1.0       1\n",
       "29  5.0  3.4  1.6  0.4       0\n",
       "30  6.4  3.1  5.5  1.8       2\n",
       "31  5.4  3.0  4.5  1.5       1\n",
       "32  5.2  3.5  1.5  0.2       0\n",
       "33  6.1  3.0  4.9  1.8       2\n",
       "34  6.4  2.8  5.6  2.2       2\n",
       "35  5.2  2.7  3.9  1.4       1\n",
       "36  5.7  3.8  1.7  0.3       0\n",
       "37  6.0  2.7  5.1  1.6       1"
      ]
     },
     "execution_count": 177,
     "metadata": {},
     "output_type": "execute_result"
    }
   ],
   "source": [
    "test"
   ]
  },
  {
   "cell_type": "code",
   "execution_count": 301,
   "metadata": {},
   "outputs": [
    {
     "data": {
      "text/html": [
       "<div>\n",
       "<style scoped>\n",
       "    .dataframe tbody tr th:only-of-type {\n",
       "        vertical-align: middle;\n",
       "    }\n",
       "\n",
       "    .dataframe tbody tr th {\n",
       "        vertical-align: top;\n",
       "    }\n",
       "\n",
       "    .dataframe thead th {\n",
       "        text-align: right;\n",
       "    }\n",
       "</style>\n",
       "<table border=\"1\" class=\"dataframe\">\n",
       "  <thead>\n",
       "    <tr style=\"text-align: right;\">\n",
       "      <th></th>\n",
       "      <th>f1</th>\n",
       "      <th>f2</th>\n",
       "      <th>f3</th>\n",
       "      <th>f4</th>\n",
       "      <th>target</th>\n",
       "    </tr>\n",
       "  </thead>\n",
       "  <tbody>\n",
       "    <tr>\n",
       "      <th>4</th>\n",
       "      <td>5.0</td>\n",
       "      <td>3.4</td>\n",
       "      <td>1.5</td>\n",
       "      <td>0.2</td>\n",
       "      <td>0</td>\n",
       "    </tr>\n",
       "  </tbody>\n",
       "</table>\n",
       "</div>"
      ],
      "text/plain": [
       "    f1   f2   f3   f4  target\n",
       "4  5.0  3.4  1.5  0.2       0"
      ]
     },
     "execution_count": 301,
     "metadata": {},
     "output_type": "execute_result"
    }
   ],
   "source": [
    "test_ = test.loc[[4]] \n",
    "test_"
   ]
  },
  {
   "cell_type": "code",
   "execution_count": 302,
   "metadata": {},
   "outputs": [],
   "source": [
    "#### Calcul des probabiliés a priori / Calculation of a priori probabilties\n",
    "train.groupby(\"target\").size().sum()\n",
    "\n",
    "P0 = train.groupby(\"target\").size()[0]/train.groupby(\"target\").size().sum()\n",
    "P1 = train.groupby(\"target\").size()[1]/train.groupby(\"target\").size().sum()\n",
    "P2 = train.groupby(\"target\").size()[2]/train.groupby(\"target\").size().sum()"
   ]
  },
  {
   "cell_type": "markdown",
   "metadata": {},
   "source": [
    "#### Calcul des probabiliés conditionelles / Calculation of conditional probabilties"
   ]
  },
  {
   "cell_type": "code",
   "execution_count": 303,
   "metadata": {},
   "outputs": [
    {
     "data": {
      "text/html": [
       "<div>\n",
       "<style scoped>\n",
       "    .dataframe tbody tr th:only-of-type {\n",
       "        vertical-align: middle;\n",
       "    }\n",
       "\n",
       "    .dataframe tbody tr th {\n",
       "        vertical-align: top;\n",
       "    }\n",
       "\n",
       "    .dataframe thead tr th {\n",
       "        text-align: left;\n",
       "    }\n",
       "\n",
       "    .dataframe thead tr:last-of-type th {\n",
       "        text-align: right;\n",
       "    }\n",
       "</style>\n",
       "<table border=\"1\" class=\"dataframe\">\n",
       "  <thead>\n",
       "    <tr>\n",
       "      <th></th>\n",
       "      <th colspan=\"2\" halign=\"left\">f1</th>\n",
       "      <th colspan=\"2\" halign=\"left\">f2</th>\n",
       "      <th colspan=\"2\" halign=\"left\">f3</th>\n",
       "      <th colspan=\"2\" halign=\"left\">f4</th>\n",
       "    </tr>\n",
       "    <tr>\n",
       "      <th></th>\n",
       "      <th>mean</th>\n",
       "      <th>std</th>\n",
       "      <th>mean</th>\n",
       "      <th>std</th>\n",
       "      <th>mean</th>\n",
       "      <th>std</th>\n",
       "      <th>mean</th>\n",
       "      <th>std</th>\n",
       "    </tr>\n",
       "    <tr>\n",
       "      <th>target</th>\n",
       "      <th></th>\n",
       "      <th></th>\n",
       "      <th></th>\n",
       "      <th></th>\n",
       "      <th></th>\n",
       "      <th></th>\n",
       "      <th></th>\n",
       "      <th></th>\n",
       "    </tr>\n",
       "  </thead>\n",
       "  <tbody>\n",
       "    <tr>\n",
       "      <th>0</th>\n",
       "      <td>4.997297</td>\n",
       "      <td>0.354719</td>\n",
       "      <td>3.389189</td>\n",
       "      <td>0.385706</td>\n",
       "      <td>1.454054</td>\n",
       "      <td>0.142584</td>\n",
       "      <td>0.240541</td>\n",
       "      <td>0.109188</td>\n",
       "    </tr>\n",
       "    <tr>\n",
       "      <th>1</th>\n",
       "      <td>5.917647</td>\n",
       "      <td>0.522506</td>\n",
       "      <td>2.758824</td>\n",
       "      <td>0.338551</td>\n",
       "      <td>4.191176</td>\n",
       "      <td>0.477600</td>\n",
       "      <td>1.308824</td>\n",
       "      <td>0.205039</td>\n",
       "    </tr>\n",
       "    <tr>\n",
       "      <th>2</th>\n",
       "      <td>6.663415</td>\n",
       "      <td>0.646048</td>\n",
       "      <td>2.990244</td>\n",
       "      <td>0.342640</td>\n",
       "      <td>5.582927</td>\n",
       "      <td>0.558973</td>\n",
       "      <td>2.039024</td>\n",
       "      <td>0.259690</td>\n",
       "    </tr>\n",
       "  </tbody>\n",
       "</table>\n",
       "</div>"
      ],
      "text/plain": [
       "              f1                  f2                  f3                  f4  \\\n",
       "            mean       std      mean       std      mean       std      mean   \n",
       "target                                                                         \n",
       "0       4.997297  0.354719  3.389189  0.385706  1.454054  0.142584  0.240541   \n",
       "1       5.917647  0.522506  2.758824  0.338551  4.191176  0.477600  1.308824   \n",
       "2       6.663415  0.646048  2.990244  0.342640  5.582927  0.558973  2.039024   \n",
       "\n",
       "                  \n",
       "             std  \n",
       "target            \n",
       "0       0.109188  \n",
       "1       0.205039  \n",
       "2       0.259690  "
      ]
     },
     "execution_count": 303,
     "metadata": {},
     "output_type": "execute_result"
    }
   ],
   "source": [
    "# mbs : moments by sexe\n",
    "mbs = train.groupby('target').agg(['mean', 'std'])\n",
    "mbs"
   ]
  },
  {
   "cell_type": "code",
   "execution_count": 304,
   "metadata": {},
   "outputs": [
    {
     "data": {
      "text/html": [
       "<div>\n",
       "<style scoped>\n",
       "    .dataframe tbody tr th:only-of-type {\n",
       "        vertical-align: middle;\n",
       "    }\n",
       "\n",
       "    .dataframe tbody tr th {\n",
       "        vertical-align: top;\n",
       "    }\n",
       "\n",
       "    .dataframe thead th {\n",
       "        text-align: right;\n",
       "    }\n",
       "</style>\n",
       "<table border=\"1\" class=\"dataframe\">\n",
       "  <thead>\n",
       "    <tr style=\"text-align: right;\">\n",
       "      <th></th>\n",
       "      <th>target</th>\n",
       "      <th>f1_mean</th>\n",
       "      <th>f1_std</th>\n",
       "      <th>f2_mean</th>\n",
       "      <th>f2_std</th>\n",
       "      <th>f3_mean</th>\n",
       "      <th>f3_std</th>\n",
       "      <th>f4_mean</th>\n",
       "      <th>f4_std</th>\n",
       "    </tr>\n",
       "  </thead>\n",
       "  <tbody>\n",
       "    <tr>\n",
       "      <th>0</th>\n",
       "      <td>0</td>\n",
       "      <td>4.997297</td>\n",
       "      <td>0.354719</td>\n",
       "      <td>3.389189</td>\n",
       "      <td>0.385706</td>\n",
       "      <td>1.454054</td>\n",
       "      <td>0.142584</td>\n",
       "      <td>0.240541</td>\n",
       "      <td>0.109188</td>\n",
       "    </tr>\n",
       "    <tr>\n",
       "      <th>1</th>\n",
       "      <td>1</td>\n",
       "      <td>5.917647</td>\n",
       "      <td>0.522506</td>\n",
       "      <td>2.758824</td>\n",
       "      <td>0.338551</td>\n",
       "      <td>4.191176</td>\n",
       "      <td>0.477600</td>\n",
       "      <td>1.308824</td>\n",
       "      <td>0.205039</td>\n",
       "    </tr>\n",
       "    <tr>\n",
       "      <th>2</th>\n",
       "      <td>2</td>\n",
       "      <td>6.663415</td>\n",
       "      <td>0.646048</td>\n",
       "      <td>2.990244</td>\n",
       "      <td>0.342640</td>\n",
       "      <td>5.582927</td>\n",
       "      <td>0.558973</td>\n",
       "      <td>2.039024</td>\n",
       "      <td>0.259690</td>\n",
       "    </tr>\n",
       "  </tbody>\n",
       "</table>\n",
       "</div>"
      ],
      "text/plain": [
       "   target   f1_mean    f1_std   f2_mean    f2_std   f3_mean    f3_std  \\\n",
       "0       0  4.997297  0.354719  3.389189  0.385706  1.454054  0.142584   \n",
       "1       1  5.917647  0.522506  2.758824  0.338551  4.191176  0.477600   \n",
       "2       2  6.663415  0.646048  2.990244  0.342640  5.582927  0.558973   \n",
       "\n",
       "    f4_mean    f4_std  \n",
       "0  0.240541  0.109188  \n",
       "1  1.308824  0.205039  \n",
       "2  2.039024  0.259690  "
      ]
     },
     "execution_count": 304,
     "metadata": {},
     "output_type": "execute_result"
    }
   ],
   "source": [
    "mbs.columns = mbs.columns.droplevel()\n",
    "mbs.columns = ['f1_mean','f1_std','f2_mean','f2_std','f3_mean','f3_std','f4_mean','f4_std']\n",
    "mbs.reset_index()"
   ]
  },
  {
   "cell_type": "code",
   "execution_count": 312,
   "metadata": {},
   "outputs": [
    {
     "data": {
      "text/html": [
       "<div>\n",
       "<style scoped>\n",
       "    .dataframe tbody tr th:only-of-type {\n",
       "        vertical-align: middle;\n",
       "    }\n",
       "\n",
       "    .dataframe tbody tr th {\n",
       "        vertical-align: top;\n",
       "    }\n",
       "\n",
       "    .dataframe thead th {\n",
       "        text-align: right;\n",
       "    }\n",
       "</style>\n",
       "<table border=\"1\" class=\"dataframe\">\n",
       "  <thead>\n",
       "    <tr style=\"text-align: right;\">\n",
       "      <th></th>\n",
       "      <th>f1_mean</th>\n",
       "      <th>f1_std</th>\n",
       "      <th>f2_mean</th>\n",
       "      <th>f2_std</th>\n",
       "      <th>f3_mean</th>\n",
       "      <th>f3_std</th>\n",
       "      <th>f4_mean</th>\n",
       "      <th>f4_std</th>\n",
       "    </tr>\n",
       "    <tr>\n",
       "      <th>target</th>\n",
       "      <th></th>\n",
       "      <th></th>\n",
       "      <th></th>\n",
       "      <th></th>\n",
       "      <th></th>\n",
       "      <th></th>\n",
       "      <th></th>\n",
       "      <th></th>\n",
       "    </tr>\n",
       "  </thead>\n",
       "  <tbody>\n",
       "    <tr>\n",
       "      <th>0</th>\n",
       "      <td>4.997297</td>\n",
       "      <td>0.354719</td>\n",
       "      <td>3.389189</td>\n",
       "      <td>0.385706</td>\n",
       "      <td>1.454054</td>\n",
       "      <td>0.142584</td>\n",
       "      <td>0.240541</td>\n",
       "      <td>0.109188</td>\n",
       "    </tr>\n",
       "    <tr>\n",
       "      <th>1</th>\n",
       "      <td>5.917647</td>\n",
       "      <td>0.522506</td>\n",
       "      <td>2.758824</td>\n",
       "      <td>0.338551</td>\n",
       "      <td>4.191176</td>\n",
       "      <td>0.477600</td>\n",
       "      <td>1.308824</td>\n",
       "      <td>0.205039</td>\n",
       "    </tr>\n",
       "    <tr>\n",
       "      <th>2</th>\n",
       "      <td>6.663415</td>\n",
       "      <td>0.646048</td>\n",
       "      <td>2.990244</td>\n",
       "      <td>0.342640</td>\n",
       "      <td>5.582927</td>\n",
       "      <td>0.558973</td>\n",
       "      <td>2.039024</td>\n",
       "      <td>0.259690</td>\n",
       "    </tr>\n",
       "  </tbody>\n",
       "</table>\n",
       "</div>"
      ],
      "text/plain": [
       "         f1_mean    f1_std   f2_mean    f2_std   f3_mean    f3_std   f4_mean  \\\n",
       "target                                                                         \n",
       "0       4.997297  0.354719  3.389189  0.385706  1.454054  0.142584  0.240541   \n",
       "1       5.917647  0.522506  2.758824  0.338551  4.191176  0.477600  1.308824   \n",
       "2       6.663415  0.646048  2.990244  0.342640  5.582927  0.558973  2.039024   \n",
       "\n",
       "          f4_std  \n",
       "target            \n",
       "0       0.109188  \n",
       "1       0.205039  \n",
       "2       0.259690  "
      ]
     },
     "execution_count": 312,
     "metadata": {},
     "output_type": "execute_result"
    }
   ],
   "source": [
    "mbs"
   ]
  },
  {
   "cell_type": "code",
   "execution_count": 305,
   "metadata": {},
   "outputs": [],
   "source": [
    "from math import sqrt, exp, pi\n",
    "\n",
    "from decimal import Decimal\n",
    "\n",
    "def P(x, mean, sd):\n",
    "    var = float(sd)**2\n",
    "    denom = (2*pi*var)**.5\n",
    "    num = exp(-(float(x)-float(mean))**2/(2*var))\n",
    "    return num/denom\n",
    "    #return '%.2E' % Decimal(num/denom)"
   ]
  },
  {
   "cell_type": "markdown",
   "metadata": {},
   "source": [
    "$$ P_{posterior}(target = 0) =  P(target = 0).\\frac{P(f1 \\mid target = 0).P(f2 \\mid target = 0).P(f3 \\mid target =  0).P(f4 \\mid target = 0)}{evidence}$$\n",
    "\n",
    "$$ P_{posterior}(target = 1) =  P(target = 1).\\frac{P(f1 \\mid target = 1).P(f2 \\mid target = 1).P(f3 \\mid target = 1).P(f4 \\mid target = 1)}{evidence}$$\n",
    "\n",
    "$$ P_{posterior}(target = 2) =  P(target = 2).\\frac{P(f1 \\mid target = 2).P(f2 \\mid target = 2).P(f3 \\mid target = 2).P(f4 \\mid target = 2)}{evidence}$$\n",
    "\n",
    "$$ evidence = P(target = 0).P(f1\\mid target = 0).P(f2 \\mid target = 0).P(f3 \\mid target = 0).P(f4 \\mid target = 0)\\\\ \n",
    "           \\quad \\quad \\quad \\quad + P(target = 1).P(f1\\mid target = 1).P(f2 \\mid target = 1).P(f3 \\mid target = 1).P(f4 \\mid target = 1)\\\\  \n",
    "           \\quad \\quad \\quad \\quad + P(target = 2).P(f1\\mid target = 2).P(f2\\mid  target = 2).P(f3 \\mid target = 2).P(f4 \\mid target = 2)\\\\ \n",
    "              $$\n"
   ]
  },
  {
   "cell_type": "code",
   "execution_count": 327,
   "metadata": {},
   "outputs": [
    {
     "name": "stdout",
     "output_type": "stream",
     "text": [
      "1.1246375114398925\n",
      "1.033912031737856\n",
      "2.656379028840574\n",
      "3.4103691268974647\n"
     ]
    }
   ],
   "source": [
    "# Groupe target  =  0 des setosa\n",
    "pf1_0 = P(test_['f1'], mbs['f1_mean'][0], mbs['f1_std'][0])\n",
    "print(pf1_0)\n",
    "\n",
    "pf2_0 = P(test_['f2'], mbs['f2_mean'][0], mbs['f2_std'][0])\n",
    "print(pf2_0)\n",
    "\n",
    "pf3_0 = P(test_['f3'], mbs['f3_mean'][0], mbs['f3_std'][0])\n",
    "print(pf3_0)\n",
    "\n",
    "pf4_0 = P(test_['f4'], mbs['f4_mean'][0], mbs['f4_std'][0])\n",
    "print(pf4_0)"
   ]
  },
  {
   "cell_type": "code",
   "execution_count": 328,
   "metadata": {},
   "outputs": [
    {
     "name": "stdout",
     "output_type": "stream",
     "text": [
      "0.16332501265479293\n",
      "0.1960751250618053\n",
      "1.0646968616397029e-07\n",
      "8.681589734168051e-07\n"
     ]
    }
   ],
   "source": [
    "# Groupe target  =  1 des versicolor\n",
    "pf1_1 = P(test_['f1'], mbs['f1_mean'][1], mbs['f1_std'][1])\n",
    "print(pf1_1)\n",
    "\n",
    "pf2_1 = P(test_['f2'], mbs['f2_mean'][1], mbs['f2_std'][1])\n",
    "print(pf2_1)\n",
    "\n",
    "pf3_1 = P(test_['f3'], mbs['f3_mean'][1], mbs['f3_std'][1])\n",
    "print(pf3_1)\n",
    "\n",
    "pf4_1 = P(test_['f4'], mbs['f4_mean'][1], mbs['f4_std'][1])\n",
    "print(pf4_1)"
   ]
  },
  {
   "cell_type": "code",
   "execution_count": 329,
   "metadata": {},
   "outputs": [
    {
     "name": "stdout",
     "output_type": "stream",
     "text": [
      "0.16332501265479293\n",
      "0.1960751250618053\n",
      "1.0646968616397029e-07\n",
      "1.9801668395094957e-11\n"
     ]
    }
   ],
   "source": [
    "# Groupe target  =  2 des virginica\n",
    "pf1_2 = P(test_['f1'], mbs['f1_mean'][2], mbs['f1_std'][2])\n",
    "print(pf1_1)\n",
    "\n",
    "pf2_2 = P(test_['f2'], mbs['f2_mean'][2], mbs['f2_std'][2])\n",
    "print(pf2_1)\n",
    "\n",
    "pf3_2 = P(test_['f3'], mbs['f3_mean'][2], mbs['f3_std'][2])\n",
    "print(pf3_1)\n",
    "\n",
    "pf4_2 = P(test_['f4'], mbs['f4_mean'][2], mbs['f4_std'][2])\n",
    "print(pf4_2)"
   ]
  },
  {
   "cell_type": "code",
   "execution_count": 330,
   "metadata": {},
   "outputs": [
    {
     "name": "stdout",
     "output_type": "stream",
     "text": [
      "3.4799362396447284\n",
      "8.985894761236191e-16\n",
      "1.717495982568252e-25\n",
      "3.4799362396447293\n"
     ]
    }
   ],
   "source": [
    "evidence_0 = P0*pf1_0*pf2_0*pf3_0*pf4_0\n",
    "print(evidence_0)\n",
    "\n",
    "evidence_1 = P1*pf1_1*pf2_1*pf3_1*pf4_1\n",
    "print(evidence_1)\n",
    "\n",
    "evidence_2 = P2*pf1_2*pf2_2*pf3_2*pf4_2\n",
    "print(evidence_2)\n",
    "\n",
    "evidence = evidence_0 + evidence_1 + evidence_2\n",
    "print(evidence)"
   ]
  },
  {
   "cell_type": "code",
   "execution_count": 331,
   "metadata": {},
   "outputs": [
    {
     "name": "stdout",
     "output_type": "stream",
     "text": [
      "0.9999999999999998\n",
      "2.582200977956301e-16\n",
      "4.935423709784962e-26\n",
      "0\n"
     ]
    }
   ],
   "source": [
    "Ppos0 = evidence_0 / evidence\n",
    "print(Ppos0)\n",
    "Ppos1 = evidence_1 / evidence\n",
    "print(Ppos1)\n",
    "Ppos2 = evidence_2 / evidence\n",
    "print(Ppos2)\n",
    "\n",
    "ProbalitiesPos = [Ppos0,Ppos1,Ppos2]\n",
    "index_max = np.argmax(ProbalitiesPos)\n",
    "print(index_max)"
   ]
  },
  {
   "cell_type": "code",
   "execution_count": 332,
   "metadata": {},
   "outputs": [
    {
     "data": {
      "text/plain": [
       "1.0"
      ]
     },
     "execution_count": 332,
     "metadata": {},
     "output_type": "execute_result"
    }
   ],
   "source": [
    "Ppos0 + Ppos1 + Ppos2"
   ]
  },
  {
   "cell_type": "code",
   "execution_count": null,
   "metadata": {},
   "outputs": [],
   "source": [
    "1.0\n",
    "4.668672573052248e-18\n",
    "7.278423344054397e-27\n",
    "0"
   ]
  },
  {
   "cell_type": "code",
   "execution_count": 315,
   "metadata": {},
   "outputs": [],
   "source": []
  },
  {
   "cell_type": "code",
   "execution_count": null,
   "metadata": {},
   "outputs": [],
   "source": []
  },
  {
   "cell_type": "code",
   "execution_count": 171,
   "metadata": {},
   "outputs": [
    {
     "name": "stdout",
     "output_type": "stream",
     "text": [
      "1.0\n",
      "1.0\n",
      "1.0\n",
      "1.0\n"
     ]
    }
   ],
   "source": [
    "from sklearn import metrics\n",
    "\n",
    "print(metrics.precision_score(y_test, y_pred, average='macro'))  \n",
    "\n",
    "print(metrics.recall_score(y_test, y_pred, average='micro'))\n",
    "\n",
    "\n",
    "print(metrics.f1_score(y_test, y_pred, average='weighted'))  \n",
    "\n",
    "print(metrics.fbeta_score(y_test, y_pred, average='macro', beta=0.5) ) \n",
    "\n",
    "#metrics.precision_recall_fscore_support(y_test, y_pred, beta=0.5, average=None)\n"
   ]
  },
  {
   "cell_type": "code",
   "execution_count": 172,
   "metadata": {},
   "outputs": [
    {
     "data": {
      "text/plain": [
       "array([2, 1, 0, 2, 0, 2, 0, 1, 1, 1, 2, 1, 1, 1, 1, 0, 1, 1, 0, 0, 2, 1,\n",
       "       0, 0, 2, 0, 0, 1, 1, 0, 2, 1, 0, 2, 2, 1, 0, 1])"
      ]
     },
     "execution_count": 172,
     "metadata": {},
     "output_type": "execute_result"
    }
   ],
   "source": [
    "y_pred"
   ]
  },
  {
   "cell_type": "markdown",
   "metadata": {},
   "source": [
    "### Example 2: / Exemple 2: German credit"
   ]
  },
  {
   "cell_type": "code",
   "execution_count": 260,
   "metadata": {},
   "outputs": [],
   "source": [
    "\"\"\"\n",
    "Created on Wed Sep 18 07:23:54 2019\n",
    "\n",
    "@author: Ndoye\n",
    "\"\"\"\n",
    "\n",
    "# https://www.kaggle.com/janiobachmann/german-credit-analysis-a-risk-perspective\n",
    "\n",
    "import pandas as pd\n",
    "import numpy as np\n",
    "\n",
    "# Bibliotheques graphiques / graphical libraries\n",
    "import matplotlib.pyplot as plt\n",
    "import seaborn as sns\n",
    "\n",
    "#import warnings\n",
    "#init_notebook_mode(connected=True)\n",
    "#warnings.filterwarnings(\"ignore\")\n",
    "\n"
   ]
  },
  {
   "cell_type": "code",
   "execution_count": 261,
   "metadata": {},
   "outputs": [
    {
     "name": "stdout",
     "output_type": "stream",
     "text": [
      "(1000, 21)\n",
      "Index(['existingchecking', 'duration', 'credithistory', 'purpose',\n",
      "       'creditamount', 'savings', 'employmentsince', 'installmentrate',\n",
      "       'statussex', 'otherdebtors', 'residencesince', 'property', 'age',\n",
      "       'otherinstallmentplans', 'housing', 'existingcredits', 'job',\n",
      "       'peopleliable', 'telephone', 'foreignworker', 'classification'],\n",
      "      dtype='object')\n",
      "<class 'pandas.core.frame.DataFrame'>\n",
      "RangeIndex: 1000 entries, 0 to 999\n",
      "Data columns (total 21 columns):\n",
      "existingchecking         1000 non-null object\n",
      "duration                 1000 non-null int64\n",
      "credithistory            1000 non-null object\n",
      "purpose                  1000 non-null object\n",
      "creditamount             1000 non-null float64\n",
      "savings                  1000 non-null object\n",
      "employmentsince          1000 non-null object\n",
      "installmentrate          1000 non-null int64\n",
      "statussex                1000 non-null object\n",
      "otherdebtors             1000 non-null object\n",
      "residencesince           1000 non-null int64\n",
      "property                 1000 non-null object\n",
      "age                      1000 non-null int64\n",
      "otherinstallmentplans    1000 non-null object\n",
      "housing                  1000 non-null object\n",
      "existingcredits          1000 non-null int64\n",
      "job                      1000 non-null object\n",
      "peopleliable             1000 non-null int64\n",
      "telephone                1000 non-null object\n",
      "foreignworker            1000 non-null object\n",
      "classification           1000 non-null int32\n",
      "dtypes: float64(1), int32(1), int64(6), object(13)\n",
      "memory usage: 160.2+ KB\n"
     ]
    }
   ],
   "source": [
    "file = 'C:/Users/Ndoye/Documents/AIMS-Senegal/germancredit/germanCars.csv'\n",
    "\n",
    "names_ = ['existingchecking', 'duration', 'credithistory', 'purpose', 'creditamount', \n",
    "         'savings', 'employmentsince', 'installmentrate', 'statussex', 'otherdebtors', \n",
    "         'residencesince', 'property', 'age', 'otherinstallmentplans', 'housing', \n",
    "         'existingcredits', 'job', 'peopleliable', 'telephone', 'foreignworker', 'classification']\n",
    "\n",
    "data = pd.read_csv(file,names = names_ , delimiter='\\t')\n",
    "print(data.shape)\n",
    "print (data.columns)\n",
    "data.head(10)\n",
    "\n",
    "data['classification'] = data['classification'].astype(int)\n",
    "data['creditamount'] = data['creditamount'].astype(float)\n",
    "# Info aboout data \n",
    "data.info()"
   ]
  },
  {
   "cell_type": "code",
   "execution_count": 262,
   "metadata": {},
   "outputs": [],
   "source": [
    "# creating features and target data frame\n",
    "QCreditFeatures = data[['duration','creditamount','installmentrate','residencesince','age','existingcredits','peopleliable']] \n",
    "QCreditTarget = data[['classification']]"
   ]
  },
  {
   "cell_type": "code",
   "execution_count": 263,
   "metadata": {},
   "outputs": [
    {
     "data": {
      "text/plain": [
       "1    700\n",
       "2    300\n",
       "Name: classification, dtype: int64"
      ]
     },
     "execution_count": 263,
     "metadata": {},
     "output_type": "execute_result"
    }
   ],
   "source": [
    "data['classification'].value_counts()"
   ]
  },
  {
   "cell_type": "markdown",
   "metadata": {},
   "source": [
    "##### Features et target values"
   ]
  },
  {
   "cell_type": "code",
   "execution_count": 264,
   "metadata": {},
   "outputs": [],
   "source": [
    "X = QCreditFeatures.values\n",
    "y = QCreditTarget.values"
   ]
  },
  {
   "cell_type": "markdown",
   "metadata": {},
   "source": [
    "##### Slipting in Train and test values"
   ]
  },
  {
   "cell_type": "code",
   "execution_count": 265,
   "metadata": {},
   "outputs": [],
   "source": [
    "#from sklearn.cross_validation import train_test_split (if available)\n",
    "from sklearn.model_selection import train_test_split\n",
    "\n",
    "X_train, X_test, y_train, y_test = train_test_split(X, y, test_size = 0.3, random_state=0)"
   ]
  },
  {
   "cell_type": "markdown",
   "metadata": {},
   "source": [
    "###### Fiting model"
   ]
  },
  {
   "cell_type": "code",
   "execution_count": 266,
   "metadata": {},
   "outputs": [
    {
     "name": "stdout",
     "output_type": "stream",
     "text": [
      "Number of mislabeled points out of a total 150 points : 84\n"
     ]
    },
    {
     "name": "stderr",
     "output_type": "stream",
     "text": [
      "C:\\Users\\Ndoye\\Anaconda3_\\lib\\site-packages\\sklearn\\utils\\validation.py:724: DataConversionWarning: A column-vector y was passed when a 1d array was expected. Please change the shape of y to (n_samples, ), for example using ravel().\n",
      "  y = column_or_1d(y, warn=True)\n"
     ]
    }
   ],
   "source": [
    "from sklearn.naive_bayes import GaussianNB\n",
    "\n",
    "gnb = GaussianNB()\n",
    "\n",
    "y_pred = gnb.fit(X_train,y_train).predict(X_test)\n",
    "\n",
    "print(\"Number of mislabeled points out of a total %d points : %d\"\n",
    "      % (iris.data.shape[0],(y_test.ravel() != y_pred).sum()))"
   ]
  },
  {
   "cell_type": "markdown",
   "metadata": {},
   "source": [
    "###### Measures of performance "
   ]
  },
  {
   "cell_type": "code",
   "execution_count": 267,
   "metadata": {},
   "outputs": [
    {
     "name": "stdout",
     "output_type": "stream",
     "text": [
      "Accuracy: 0.72\n"
     ]
    }
   ],
   "source": [
    "from sklearn.metrics import accuracy_score\n",
    "print('Accuracy: %.2f' % accuracy_score(y_test.ravel(), y_pred))"
   ]
  },
  {
   "cell_type": "code",
   "execution_count": 268,
   "metadata": {},
   "outputs": [
    {
     "data": {
      "text/plain": [
       "array([[194,  20],\n",
       "       [ 64,  22]], dtype=int64)"
      ]
     },
     "execution_count": 268,
     "metadata": {},
     "output_type": "execute_result"
    }
   ],
   "source": [
    "# confusion_matrix\n",
    "from sklearn.metrics import confusion_matrix\n",
    "from sklearn.utils.multiclass import unique_labels\n",
    "\n",
    "confusion_matrix = confusion_matrix(y_test.ravel(), y_pred)\n",
    "confusion_matrix"
   ]
  },
  {
   "cell_type": "code",
   "execution_count": 269,
   "metadata": {},
   "outputs": [
    {
     "data": {
      "text/plain": [
       "0.72"
      ]
     },
     "execution_count": 269,
     "metadata": {},
     "output_type": "execute_result"
    }
   ],
   "source": [
    "# Accuracy\n",
    "(194 + 22)/confusion_matrix.sum()"
   ]
  },
  {
   "cell_type": "code",
   "execution_count": 270,
   "metadata": {},
   "outputs": [
    {
     "data": {
      "text/plain": [
       "0.752"
      ]
     },
     "execution_count": 270,
     "metadata": {},
     "output_type": "execute_result"
    }
   ],
   "source": [
    "# Precision\n",
    "round(194/(194 + 64),3)"
   ]
  },
  {
   "cell_type": "code",
   "execution_count": 271,
   "metadata": {},
   "outputs": [
    {
     "data": {
      "text/plain": [
       "0.907"
      ]
     },
     "execution_count": 271,
     "metadata": {},
     "output_type": "execute_result"
    }
   ],
   "source": [
    "# Sensitivity (recall)\n",
    "round(194/(194 + 20),3)"
   ]
  },
  {
   "cell_type": "code",
   "execution_count": null,
   "metadata": {},
   "outputs": [],
   "source": []
  }
 ],
 "metadata": {
  "kernelspec": {
   "display_name": "Python 3",
   "language": "python",
   "name": "python3"
  },
  "language_info": {
   "codemirror_mode": {
    "name": "ipython",
    "version": 3
   },
   "file_extension": ".py",
   "mimetype": "text/x-python",
   "name": "python",
   "nbconvert_exporter": "python",
   "pygments_lexer": "ipython3",
   "version": "3.7.3"
  }
 },
 "nbformat": 4,
 "nbformat_minor": 2
}
